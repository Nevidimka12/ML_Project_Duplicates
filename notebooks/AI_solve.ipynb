{
 "cells": [
  {
   "cell_type": "code",
   "execution_count": 2,
   "id": "initial_id",
   "metadata": {
    "collapsed": true,
    "ExecuteTime": {
     "end_time": "2024-06-07T01:30:56.082982Z",
     "start_time": "2024-06-07T01:30:55.240508Z"
    }
   },
   "outputs": [],
   "source": [
    "import pandas as pd\n",
    "import numpy as np"
   ]
  },
  {
   "cell_type": "code",
   "outputs": [
    {
     "data": {
      "text/plain": "   id  qid1  qid2                                          question1  \\\n0   0     1     2  What is the step by step guide to invest in sh...   \n1   1     3     4  What is the story of Kohinoor (Koh-i-Noor) Dia...   \n2   2     5     6  How can I increase the speed of my internet co...   \n3   3     7     8  Why am I mentally very lonely? How can I solve...   \n4   4     9    10  Which one dissolve in water quikly sugar, salt...   \n\n                                           question2  is_duplicate  \n0  What is the step by step guide to invest in sh...             0  \n1  What would happen if the Indian government sto...             0  \n2  How can Internet speed be increased by hacking...             0  \n3  Find the remainder when [math]23^{24}[/math] i...             0  \n4            Which fish would survive in salt water?             0  ",
      "text/html": "<div>\n<style scoped>\n    .dataframe tbody tr th:only-of-type {\n        vertical-align: middle;\n    }\n\n    .dataframe tbody tr th {\n        vertical-align: top;\n    }\n\n    .dataframe thead th {\n        text-align: right;\n    }\n</style>\n<table border=\"1\" class=\"dataframe\">\n  <thead>\n    <tr style=\"text-align: right;\">\n      <th></th>\n      <th>id</th>\n      <th>qid1</th>\n      <th>qid2</th>\n      <th>question1</th>\n      <th>question2</th>\n      <th>is_duplicate</th>\n    </tr>\n  </thead>\n  <tbody>\n    <tr>\n      <th>0</th>\n      <td>0</td>\n      <td>1</td>\n      <td>2</td>\n      <td>What is the step by step guide to invest in sh...</td>\n      <td>What is the step by step guide to invest in sh...</td>\n      <td>0</td>\n    </tr>\n    <tr>\n      <th>1</th>\n      <td>1</td>\n      <td>3</td>\n      <td>4</td>\n      <td>What is the story of Kohinoor (Koh-i-Noor) Dia...</td>\n      <td>What would happen if the Indian government sto...</td>\n      <td>0</td>\n    </tr>\n    <tr>\n      <th>2</th>\n      <td>2</td>\n      <td>5</td>\n      <td>6</td>\n      <td>How can I increase the speed of my internet co...</td>\n      <td>How can Internet speed be increased by hacking...</td>\n      <td>0</td>\n    </tr>\n    <tr>\n      <th>3</th>\n      <td>3</td>\n      <td>7</td>\n      <td>8</td>\n      <td>Why am I mentally very lonely? How can I solve...</td>\n      <td>Find the remainder when [math]23^{24}[/math] i...</td>\n      <td>0</td>\n    </tr>\n    <tr>\n      <th>4</th>\n      <td>4</td>\n      <td>9</td>\n      <td>10</td>\n      <td>Which one dissolve in water quikly sugar, salt...</td>\n      <td>Which fish would survive in salt water?</td>\n      <td>0</td>\n    </tr>\n  </tbody>\n</table>\n</div>"
     },
     "execution_count": 65,
     "metadata": {},
     "output_type": "execute_result"
    }
   ],
   "source": [
    "data = pd.read_csv(\"train.csv\")\n",
    "data.head()"
   ],
   "metadata": {
    "collapsed": false,
    "ExecuteTime": {
     "end_time": "2024-06-06T01:24:11.082711Z",
     "start_time": "2024-06-06T01:24:09.599097Z"
    }
   },
   "id": "a6ad4339bcfab182",
   "execution_count": 65
  },
  {
   "cell_type": "code",
   "outputs": [
    {
     "data": {
      "text/plain": "                                           question1  \\\n0  What is the step by step guide to invest in sh...   \n1  What is the story of Kohinoor (Koh-i-Noor) Dia...   \n2  How can I increase the speed of my internet co...   \n3  Why am I mentally very lonely? How can I solve...   \n4  Which one dissolve in water quikly sugar, salt...   \n\n                                           question2  is_duplicate  \n0  What is the step by step guide to invest in sh...             0  \n1  What would happen if the Indian government sto...             0  \n2  How can Internet speed be increased by hacking...             0  \n3  Find the remainder when [math]23^{24}[/math] i...             0  \n4            Which fish would survive in salt water?             0  ",
      "text/html": "<div>\n<style scoped>\n    .dataframe tbody tr th:only-of-type {\n        vertical-align: middle;\n    }\n\n    .dataframe tbody tr th {\n        vertical-align: top;\n    }\n\n    .dataframe thead th {\n        text-align: right;\n    }\n</style>\n<table border=\"1\" class=\"dataframe\">\n  <thead>\n    <tr style=\"text-align: right;\">\n      <th></th>\n      <th>question1</th>\n      <th>question2</th>\n      <th>is_duplicate</th>\n    </tr>\n  </thead>\n  <tbody>\n    <tr>\n      <th>0</th>\n      <td>What is the step by step guide to invest in sh...</td>\n      <td>What is the step by step guide to invest in sh...</td>\n      <td>0</td>\n    </tr>\n    <tr>\n      <th>1</th>\n      <td>What is the story of Kohinoor (Koh-i-Noor) Dia...</td>\n      <td>What would happen if the Indian government sto...</td>\n      <td>0</td>\n    </tr>\n    <tr>\n      <th>2</th>\n      <td>How can I increase the speed of my internet co...</td>\n      <td>How can Internet speed be increased by hacking...</td>\n      <td>0</td>\n    </tr>\n    <tr>\n      <th>3</th>\n      <td>Why am I mentally very lonely? How can I solve...</td>\n      <td>Find the remainder when [math]23^{24}[/math] i...</td>\n      <td>0</td>\n    </tr>\n    <tr>\n      <th>4</th>\n      <td>Which one dissolve in water quikly sugar, salt...</td>\n      <td>Which fish would survive in salt water?</td>\n      <td>0</td>\n    </tr>\n  </tbody>\n</table>\n</div>"
     },
     "execution_count": 66,
     "metadata": {},
     "output_type": "execute_result"
    }
   ],
   "source": [
    "data = data.drop(columns=[\"qid1\", \"qid2\", \"id\"])\n",
    "data.head()"
   ],
   "metadata": {
    "collapsed": false,
    "ExecuteTime": {
     "end_time": "2024-06-06T01:24:11.170014Z",
     "start_time": "2024-06-06T01:24:11.086897Z"
    }
   },
   "id": "fc64c31ed4fafd1f",
   "execution_count": 66
  },
  {
   "cell_type": "code",
   "outputs": [
    {
     "name": "stdout",
     "output_type": "stream",
     "text": [
      "question1       1\n",
      "question2       2\n",
      "is_duplicate    0\n",
      "dtype: int64\n"
     ]
    }
   ],
   "source": [
    "nan_counts = data.isna().sum()\n",
    "print(nan_counts)"
   ],
   "metadata": {
    "collapsed": false,
    "ExecuteTime": {
     "end_time": "2024-06-06T01:24:11.358268Z",
     "start_time": "2024-06-06T01:24:11.233048Z"
    }
   },
   "id": "8024f35107160ac",
   "execution_count": 67
  },
  {
   "cell_type": "code",
   "outputs": [],
   "source": [
    "data = data.dropna()\n",
    "data.reset_index(drop=True, inplace=True)"
   ],
   "metadata": {
    "collapsed": false,
    "ExecuteTime": {
     "end_time": "2024-06-06T01:24:11.656878Z",
     "start_time": "2024-06-06T01:24:11.362477Z"
    }
   },
   "id": "7e30c6ab2879cdc",
   "execution_count": 68
  },
  {
   "cell_type": "code",
   "outputs": [
    {
     "name": "stdout",
     "output_type": "stream",
     "text": [
      "Requirement already satisfied: nltk in /Users/timurabdulkadirov/anaconda3/lib/python3.10/site-packages (3.7)\r\n",
      "Requirement already satisfied: click in /Users/timurabdulkadirov/anaconda3/lib/python3.10/site-packages (from nltk) (8.0.4)\r\n",
      "Requirement already satisfied: tqdm in /Users/timurabdulkadirov/anaconda3/lib/python3.10/site-packages (from nltk) (4.64.1)\r\n",
      "Requirement already satisfied: regex>=2021.8.3 in /Users/timurabdulkadirov/anaconda3/lib/python3.10/site-packages (from nltk) (2022.7.9)\r\n",
      "Requirement already satisfied: joblib in /Users/timurabdulkadirov/anaconda3/lib/python3.10/site-packages (from nltk) (1.1.1)\r\n"
     ]
    }
   ],
   "source": [
    "! pip install nltk"
   ],
   "metadata": {
    "collapsed": false,
    "ExecuteTime": {
     "end_time": "2024-06-06T01:24:22.212137Z",
     "start_time": "2024-06-06T01:24:11.401358Z"
    }
   },
   "id": "62b76e6dd447d62d",
   "execution_count": 69
  },
  {
   "cell_type": "code",
   "outputs": [],
   "source": [
    "import nltk\n",
    "from nltk.corpus import stopwords"
   ],
   "metadata": {
    "collapsed": false,
    "ExecuteTime": {
     "end_time": "2024-06-07T01:19:17.523416Z",
     "start_time": "2024-06-07T01:19:15.214996Z"
    }
   },
   "id": "22245617a33b2699",
   "execution_count": 4
  },
  {
   "cell_type": "code",
   "outputs": [
    {
     "name": "stderr",
     "output_type": "stream",
     "text": [
      "[nltk_data] Downloading package stopwords to\n",
      "[nltk_data]     /Users/timurabdulkadirov/nltk_data...\n",
      "[nltk_data]   Package stopwords is already up-to-date!\n"
     ]
    },
    {
     "data": {
      "text/plain": "                                           question1  \\\n0    what step step guide invest share market india?   \n1          what story kohinoor (koh-i-noor) diamond?   \n2  how i increase speed internet connection using...   \n3             why i mentally lonely? how i solve it?   \n4  which one dissolve water quikly sugar, salt, m...   \n\n                                           question2  is_duplicate  \n0          what step step guide invest share market?             0  \n1  what would happen indian government stole kohi...             0  \n2          how internet speed increased hacking dns?             0  \n3  find remainder [math]23^{24}[/math] divided 24...             0  \n4               which fish would survive salt water?             0  ",
      "text/html": "<div>\n<style scoped>\n    .dataframe tbody tr th:only-of-type {\n        vertical-align: middle;\n    }\n\n    .dataframe tbody tr th {\n        vertical-align: top;\n    }\n\n    .dataframe thead th {\n        text-align: right;\n    }\n</style>\n<table border=\"1\" class=\"dataframe\">\n  <thead>\n    <tr style=\"text-align: right;\">\n      <th></th>\n      <th>question1</th>\n      <th>question2</th>\n      <th>is_duplicate</th>\n    </tr>\n  </thead>\n  <tbody>\n    <tr>\n      <th>0</th>\n      <td>what step step guide invest share market india?</td>\n      <td>what step step guide invest share market?</td>\n      <td>0</td>\n    </tr>\n    <tr>\n      <th>1</th>\n      <td>what story kohinoor (koh-i-noor) diamond?</td>\n      <td>what would happen indian government stole kohi...</td>\n      <td>0</td>\n    </tr>\n    <tr>\n      <th>2</th>\n      <td>how i increase speed internet connection using...</td>\n      <td>how internet speed increased hacking dns?</td>\n      <td>0</td>\n    </tr>\n    <tr>\n      <th>3</th>\n      <td>why i mentally lonely? how i solve it?</td>\n      <td>find remainder [math]23^{24}[/math] divided 24...</td>\n      <td>0</td>\n    </tr>\n    <tr>\n      <th>4</th>\n      <td>which one dissolve water quikly sugar, salt, m...</td>\n      <td>which fish would survive salt water?</td>\n      <td>0</td>\n    </tr>\n  </tbody>\n</table>\n</div>"
     },
     "execution_count": 71,
     "metadata": {},
     "output_type": "execute_result"
    }
   ],
   "source": [
    "nltk.download('stopwords')\n",
    "stop_words = set(stopwords.words('english'))\n",
    "\n",
    "def delete_stop_words(text):\n",
    "    return ' '.join([word.lower() for word in text.split() if word not in stop_words])\n",
    "\n",
    "data['question1'] = data['question1'].apply(delete_stop_words)\n",
    "data['question2'] = data['question2'].apply(delete_stop_words)\n",
    "data.head()"
   ],
   "metadata": {
    "collapsed": false,
    "ExecuteTime": {
     "end_time": "2024-06-06T01:24:28.436426Z",
     "start_time": "2024-06-06T01:24:22.178110Z"
    }
   },
   "id": "ee5eb570b508c836",
   "execution_count": 71
  },
  {
   "cell_type": "code",
   "outputs": [],
   "source": [
    "data_const = data.copy()"
   ],
   "metadata": {
    "collapsed": false,
    "ExecuteTime": {
     "end_time": "2024-06-06T01:24:28.893514Z",
     "start_time": "2024-06-06T01:24:28.430241Z"
    }
   },
   "id": "ab783b7e3b6d7613",
   "execution_count": 72
  },
  {
   "cell_type": "code",
   "outputs": [],
   "source": [
    "from sklearn.feature_extraction.text import TfidfVectorizer\n",
    "from sklearn.linear_model import LogisticRegression\n",
    "from sklearn.metrics import accuracy_score, f1_score, precision_score, recall_score\n",
    "from sklearn.model_selection import train_test_split\n",
    "from sklearn.feature_extraction.text import CountVectorizer\n",
    "from sklearn.tree import DecisionTreeClassifier\n",
    "from sklearn.svm import SVC\n",
    "from sklearn.preprocessing import StandardScaler\n",
    "from catboost import CatBoostClassifier\n",
    "from sklearn.ensemble import RandomForestClassifier"
   ],
   "metadata": {
    "collapsed": false,
    "ExecuteTime": {
     "end_time": "2024-06-07T01:31:05.426508Z",
     "start_time": "2024-06-07T01:31:01.234039Z"
    }
   },
   "id": "5c6655bf3854c991",
   "execution_count": 3
  },
  {
   "cell_type": "code",
   "outputs": [],
   "source": [
    "import re\n",
    "\n",
    "def preprocess_text(text): \n",
    "    text = re.sub(r\"[^\\w\\s]\", '', text.lower())\n",
    "    return text.split()"
   ],
   "metadata": {
    "collapsed": false,
    "ExecuteTime": {
     "end_time": "2024-06-06T01:24:28.955852Z",
     "start_time": "2024-06-06T01:24:28.916993Z"
    }
   },
   "id": "af5d7a790941842a",
   "execution_count": 74
  },
  {
   "cell_type": "code",
   "outputs": [],
   "source": [
    "from nltk.stem.porter import *"
   ],
   "metadata": {
    "collapsed": false,
    "ExecuteTime": {
     "end_time": "2024-06-07T01:31:06.536731Z",
     "start_time": "2024-06-07T01:31:05.317103Z"
    }
   },
   "id": "7986a21fa7762b08",
   "execution_count": 4
  },
  {
   "cell_type": "code",
   "outputs": [],
   "source": [
    "def train_test_stem(data2):\n",
    "    stemmer = PorterStemmer()\n",
    "\n",
    "    def preprocess_stem(text):\n",
    "        return ' '.join([stemmer.stem(word) for word in preprocess_text(text)])\n",
    "    \n",
    "    data2['question1'] = data2['question1'].apply(preprocess_stem)\n",
    "    data2['question2'] = data2['question2'].apply(preprocess_stem)\n",
    "    print(data2.head())\n",
    "    train, test = train_test_split(data2, test_size=0.2, random_state=0)\n",
    "    return train, test"
   ],
   "metadata": {
    "collapsed": false,
    "ExecuteTime": {
     "end_time": "2024-06-06T01:24:28.982727Z",
     "start_time": "2024-06-06T01:24:28.935312Z"
    }
   },
   "id": "bfe309c82f4c136d",
   "execution_count": 76
  },
  {
   "cell_type": "code",
   "outputs": [],
   "source": [
    "import pymorphy2"
   ],
   "metadata": {
    "collapsed": false,
    "ExecuteTime": {
     "end_time": "2024-06-07T01:19:23.955380Z",
     "start_time": "2024-06-07T01:19:23.914898Z"
    }
   },
   "id": "c568838e18e715c3",
   "execution_count": 7
  },
  {
   "cell_type": "code",
   "outputs": [],
   "source": [
    "def train_test_lem(data2):\n",
    "    morph = pymorphy2.MorphAnalyzer()\n",
    "    \n",
    "    def preprocess_lem(text):\n",
    "        return ' '.join([morph.parse(word)[0].normal_form for word in preprocess_text(text)])\n",
    "    \n",
    "    data2['question1'] = data2['question1'].apply(preprocess_lem)\n",
    "    data2['question2'] = data2['question2'].apply(preprocess_lem)\n",
    "    print(data2.head())\n",
    "    train, test = train_test_split(data2, test_size=0.2, random_state=0)\n",
    "    return train, test"
   ],
   "metadata": {
    "collapsed": false,
    "ExecuteTime": {
     "end_time": "2024-06-06T01:24:29.061820Z",
     "start_time": "2024-06-06T01:24:28.957619Z"
    }
   },
   "id": "db6751708027b348",
   "execution_count": 78
  },
  {
   "cell_type": "code",
   "outputs": [],
   "source": [
    "def tfidf (df_train, df_test):\n",
    "    vectorizer = TfidfVectorizer()\n",
    "    questions = pd.concat([df_train['question1'], df_train['question2']])\n",
    "    vectorizer.fit(questions)\n",
    "    q1_train_tfidf = vectorizer.transform(df_train['question1'])\n",
    "    q2_train_tfidf = vectorizer.transform(df_train['question2'])\n",
    "    q1_test_tfidf = vectorizer.transform(df_test['question1'])\n",
    "    q2_test_tfidf = vectorizer.transform(df_test['question2'])\n",
    "    df_train_features = q1_train_tfidf + q2_train_tfidf # Вычитание дает ужасные результаты\n",
    "    df_test_features = q1_test_tfidf + q2_test_tfidf\n",
    "    return df_train_features, df_test_features"
   ],
   "metadata": {
    "collapsed": false,
    "ExecuteTime": {
     "end_time": "2024-06-06T01:24:29.065958Z",
     "start_time": "2024-06-06T01:24:28.968471Z"
    }
   },
   "id": "d42a2d6c4630f57f",
   "execution_count": 79
  },
  {
   "cell_type": "code",
   "outputs": [],
   "source": [
    "def bow (df_train, df_test):\n",
    "    vectorizer = CountVectorizer()\n",
    "    questions = pd.concat([df_train['question1'], df_train['question2']])\n",
    "    vectorizer.fit(questions)\n",
    "    q1_train_bow = vectorizer.transform(df_train['question1'])\n",
    "    q2_train_bow = vectorizer.transform(df_train['question2'])\n",
    "    q1_test_bow = vectorizer.transform(df_test['question1'])\n",
    "    q2_test_bow = vectorizer.transform(df_test['question2'])\n",
    "    df_train_features = q1_train_bow + q2_train_bow # Вычитание дает ужасные результаты\n",
    "    df_test_features = q1_test_bow + q2_test_bow\n",
    "    return df_train_features, df_test_features"
   ],
   "metadata": {
    "collapsed": false,
    "ExecuteTime": {
     "end_time": "2024-06-06T01:24:29.071866Z",
     "start_time": "2024-06-06T01:24:28.973213Z"
    }
   },
   "id": "594975da7136aca6",
   "execution_count": 80
  },
  {
   "cell_type": "code",
   "outputs": [],
   "source": [
    "def log_reg(train_features, test_features):\n",
    "    model = LogisticRegression(max_iter=10000)\n",
    "    model.fit(train_features, train['is_duplicate'])\n",
    "    predictions = model.predict(test_features)\n",
    "    accuracy = accuracy_score(predictions, test['is_duplicate'])\n",
    "    print(f\"accuracy = {accuracy}\")\n",
    "    precision = precision_score(predictions, test['is_duplicate'])\n",
    "    print(f\"precision = {precision}\")\n",
    "    recall = recall_score(predictions, test['is_duplicate'])\n",
    "    print(f\"recall = {recall}\")\n",
    "    f1_met = f1_score(predictions, test['is_duplicate'])\n",
    "    print(f\"f1_score = {f1_met}\")"
   ],
   "metadata": {
    "collapsed": false,
    "ExecuteTime": {
     "end_time": "2024-06-06T01:24:29.090422Z",
     "start_time": "2024-06-06T01:24:28.990373Z"
    }
   },
   "id": "f38424e381df0c73",
   "execution_count": 81
  },
  {
   "cell_type": "code",
   "outputs": [],
   "source": [
    "def des_tree(train_features, test_features):\n",
    "    model = DecisionTreeClassifier()\n",
    "    model.fit(train_features, train['is_duplicate'])\n",
    "    predictions = model.predict(test_features)\n",
    "    accuracy = accuracy_score(predictions, test['is_duplicate'])\n",
    "    print(f\"accuracy = {accuracy}\")\n",
    "    precision = precision_score(predictions, test['is_duplicate'])\n",
    "    print(f\"precision = {precision}\")\n",
    "    recall = recall_score(predictions, test['is_duplicate'])\n",
    "    print(f\"recall = {recall}\")\n",
    "    f1_met = f1_score(predictions, test['is_duplicate'])\n",
    "    print(f\"f1_score = {f1_met}\")"
   ],
   "metadata": {
    "collapsed": false,
    "ExecuteTime": {
     "end_time": "2024-06-06T01:24:29.094026Z",
     "start_time": "2024-06-06T01:24:29.000963Z"
    }
   },
   "id": "240937c4592b8564",
   "execution_count": 82
  },
  {
   "cell_type": "code",
   "outputs": [],
   "source": [
    "def svm(train_features, test_features):\n",
    "    model = SVC(kernel='linear', max_iter=1000, random_state=42)\n",
    "    model.fit(train_features, train['is_duplicate'])\n",
    "    predictions = model.predict(test_features)\n",
    "    accuracy = accuracy_score(predictions, test['is_duplicate'])\n",
    "    print(f\"accuracy = {accuracy}\")\n",
    "    precision = precision_score(predictions, test['is_duplicate'])\n",
    "    print(f\"precision = {precision}\")\n",
    "    recall = recall_score(predictions, test['is_duplicate'])\n",
    "    print(f\"recall = {recall}\")\n",
    "    f1_met = f1_score(predictions, test['is_duplicate'])\n",
    "    print(f\"f1_score = {f1_met}\")"
   ],
   "metadata": {
    "collapsed": false,
    "ExecuteTime": {
     "end_time": "2024-06-06T01:24:29.098320Z",
     "start_time": "2024-06-06T01:24:29.012125Z"
    }
   },
   "id": "804689df6ad21a",
   "execution_count": 83
  },
  {
   "cell_type": "code",
   "outputs": [],
   "source": [
    "def cboost(train_features, test_features):\n",
    "    model = CatBoostClassifier(iterations=1000, learning_rate=0.1, depth=6, verbose=100)\n",
    "    model.fit(train_features, train['is_duplicate'])\n",
    "    predictions = model.predict(test_features)\n",
    "    accuracy = accuracy_score(predictions, test['is_duplicate'])\n",
    "    print(f\"accuracy = {accuracy}\")\n",
    "    precision = precision_score(predictions, test['is_duplicate'])\n",
    "    print(f\"precision = {precision}\")\n",
    "    recall = recall_score(predictions, test['is_duplicate'])\n",
    "    print(f\"recall = {recall}\")\n",
    "    f1_met = f1_score(predictions, test['is_duplicate'])\n",
    "    print(f\"f1_score = {f1_met}\")"
   ],
   "metadata": {
    "collapsed": false,
    "ExecuteTime": {
     "end_time": "2024-06-06T01:24:29.111111Z",
     "start_time": "2024-06-06T01:24:29.017807Z"
    }
   },
   "id": "aff644134bf12681",
   "execution_count": 84
  },
  {
   "cell_type": "code",
   "outputs": [],
   "source": [
    "def ranfor(train_features, test_features):\n",
    "    model = RandomForestClassifier(\n",
    "        n_estimators=100,       \n",
    "        criterion='gini',          \n",
    "        max_depth=None,           \n",
    "        min_samples_split=2,       \n",
    "        min_samples_leaf=1,   \n",
    "        max_features='auto',      \n",
    "        bootstrap=True,          \n",
    "        random_state=42            \n",
    "    )\n",
    "    model.fit(train_features, train['is_duplicate'])\n",
    "    predictions = model.predict(test_features)\n",
    "    accuracy = accuracy_score(predictions, test['is_duplicate'])\n",
    "    print(f\"accuracy = {accuracy}\")\n",
    "    precision = precision_score(predictions, test['is_duplicate'])\n",
    "    print(f\"precision = {precision}\")\n",
    "    recall = recall_score(predictions, test['is_duplicate'])\n",
    "    print(f\"recall = {recall}\")\n",
    "    f1_met = f1_score(predictions, test['is_duplicate'])\n",
    "    print(f\"f1_score = {f1_met}\")"
   ],
   "metadata": {
    "collapsed": false,
    "ExecuteTime": {
     "end_time": "2024-06-06T01:24:29.150368Z",
     "start_time": "2024-06-06T01:24:29.033776Z"
    }
   },
   "id": "d3e9a0d3ba63b20a",
   "execution_count": 85
  },
  {
   "cell_type": "code",
   "outputs": [
    {
     "name": "stdout",
     "output_type": "stream",
     "text": [
      "                                           question1  \\\n",
      "0      what step step guid invest share market india   \n",
      "1               what stori kohinoor kohinoor diamond   \n",
      "2       how i increas speed internet connect use vpn   \n",
      "3                    whi i mental lone how i solv it   \n",
      "4  which one dissolv water quikli sugar salt meth...   \n",
      "\n",
      "                                           question2  is_duplicate  \n",
      "0            what step step guid invest share market             0  \n",
      "1  what would happen indian govern stole kohinoor...             0  \n",
      "2                 how internet speed increas hack dn             0  \n",
      "3               find remaind math2324math divid 2423             0  \n",
      "4                 which fish would surviv salt water             0  \n"
     ]
    }
   ],
   "source": [
    "train, test = train_test_stem(data)"
   ],
   "metadata": {
    "collapsed": false,
    "ExecuteTime": {
     "end_time": "2024-06-06T01:26:34.472046Z",
     "start_time": "2024-06-06T01:24:29.040960Z"
    }
   },
   "id": "830c5dd2eaeb8808",
   "execution_count": 86
  },
  {
   "cell_type": "code",
   "outputs": [
    {
     "name": "stdout",
     "output_type": "stream",
     "text": [
      "accuracy = 0.751984961290163\n",
      "precision = 0.564872139973082\n",
      "recall = 0.7021329987452949\n",
      "f1_score = 0.626067499533843\n"
     ]
    }
   ],
   "source": [
    "train_features, test_features = tfidf(train, test)\n",
    "log_reg(train_features, test_features)"
   ],
   "metadata": {
    "collapsed": false,
    "ExecuteTime": {
     "end_time": "2024-06-06T01:27:06.027064Z",
     "start_time": "2024-06-06T01:26:34.480173Z"
    }
   },
   "id": "796fc1b2f82235c2",
   "execution_count": 87
  },
  {
   "cell_type": "code",
   "outputs": [
    {
     "name": "stdout",
     "output_type": "stream",
     "text": [
      "accuracy = 0.7509955724850973\n",
      "precision = 0.5884925975773889\n",
      "recall = 0.6887453729227376\n",
      "f1_score = 0.6346844721849259\n"
     ]
    }
   ],
   "source": [
    "train_features, test_features = bow(train, test)\n",
    "log_reg(train_features, test_features)"
   ],
   "metadata": {
    "collapsed": false,
    "ExecuteTime": {
     "end_time": "2024-06-06T01:28:11.655400Z",
     "start_time": "2024-06-06T01:27:06.022432Z"
    }
   },
   "id": "8bdedccc371ffaec",
   "execution_count": 88
  },
  {
   "cell_type": "code",
   "outputs": [
    {
     "name": "stderr",
     "output_type": "stream",
     "text": [
      "/Users/timurabdulkadirov/anaconda3/lib/python3.10/site-packages/sklearn/svm/_base.py:299: ConvergenceWarning: Solver terminated early (max_iter=1000).  Consider pre-processing your data with StandardScaler or MinMaxScaler.\n",
      "  warnings.warn(\n"
     ]
    },
    {
     "name": "stdout",
     "output_type": "stream",
     "text": [
      "accuracy = 0.5153231591184546\n",
      "precision = 0.5520188425302827\n",
      "recall = 0.3880138120240291\n",
      "f1_score = 0.45570956362323267\n"
     ]
    }
   ],
   "source": [
    "train_features, test_features = tfidf(train, test)\n",
    "svm(train_features, test_features)"
   ],
   "metadata": {
    "collapsed": false,
    "ExecuteTime": {
     "end_time": "2024-06-06T01:29:26.352656Z",
     "start_time": "2024-06-06T01:28:11.653172Z"
    }
   },
   "id": "9f2d63465bbe0b45",
   "execution_count": 89
  },
  {
   "cell_type": "code",
   "outputs": [
    {
     "name": "stderr",
     "output_type": "stream",
     "text": [
      "/Users/timurabdulkadirov/anaconda3/lib/python3.10/site-packages/sklearn/svm/_base.py:299: ConvergenceWarning: Solver terminated early (max_iter=1000).  Consider pre-processing your data with StandardScaler or MinMaxScaler.\n",
      "  warnings.warn(\n"
     ]
    },
    {
     "name": "stdout",
     "output_type": "stream",
     "text": [
      "accuracy = 0.4808676939820426\n",
      "precision = 0.8020524899057874\n",
      "recall = 0.3977473719339229\n",
      "f1_score = 0.5317791411042945\n"
     ]
    }
   ],
   "source": [
    "train_features, test_features = bow(train, test)\n",
    "svm(train_features, test_features)"
   ],
   "metadata": {
    "collapsed": false,
    "ExecuteTime": {
     "end_time": "2024-06-06T01:30:46.915754Z",
     "start_time": "2024-06-06T01:29:26.353257Z"
    }
   },
   "id": "2d633ba4b6ff60d1",
   "execution_count": 90
  },
  {
   "cell_type": "code",
   "outputs": [
    {
     "name": "stdout",
     "output_type": "stream",
     "text": [
      "0:\tlearn: 0.6801542\ttotal: 362ms\tremaining: 6m 1s\n",
      "100:\tlearn: 0.5675354\ttotal: 27.9s\tremaining: 4m 8s\n",
      "200:\tlearn: 0.5394863\ttotal: 56s\tremaining: 3m 42s\n",
      "300:\tlearn: 0.5219411\ttotal: 1m 23s\tremaining: 3m 13s\n",
      "400:\tlearn: 0.5090246\ttotal: 1m 48s\tremaining: 2m 42s\n",
      "500:\tlearn: 0.4984297\ttotal: 2m 11s\tremaining: 2m 11s\n",
      "600:\tlearn: 0.4893325\ttotal: 2m 35s\tremaining: 1m 42s\n",
      "700:\tlearn: 0.4818543\ttotal: 2m 58s\tremaining: 1m 16s\n",
      "800:\tlearn: 0.4752693\ttotal: 3m 22s\tremaining: 50.3s\n",
      "900:\tlearn: 0.4694255\ttotal: 3m 46s\tremaining: 24.9s\n",
      "999:\tlearn: 0.4640838\ttotal: 4m 10s\tremaining: 0us\n",
      "accuracy = 0.7715748596304632\n",
      "precision = 0.5505383580080754\n",
      "recall = 0.7619446772841576\n",
      "f1_score = 0.6392155330702817\n"
     ]
    }
   ],
   "source": [
    "train_features, test_features = bow(train, test)\n",
    "cboost(train_features, test_features)"
   ],
   "metadata": {
    "collapsed": false,
    "ExecuteTime": {
     "end_time": "2024-06-06T01:35:25.015845Z",
     "start_time": "2024-06-06T01:30:46.915551Z"
    }
   },
   "id": "86a5d46471c42588",
   "execution_count": 91
  },
  {
   "cell_type": "code",
   "outputs": [
    {
     "name": "stdout",
     "output_type": "stream",
     "text": [
      "0:\tlearn: 0.6782021\ttotal: 1.08s\tremaining: 18m 3s\n",
      "100:\tlearn: 0.5507573\ttotal: 58.7s\tremaining: 8m 42s\n",
      "200:\tlearn: 0.5252775\ttotal: 1m 54s\tremaining: 7m 35s\n",
      "300:\tlearn: 0.5094706\ttotal: 2m 45s\tremaining: 6m 24s\n",
      "400:\tlearn: 0.4979294\ttotal: 3m 36s\tremaining: 5m 23s\n",
      "500:\tlearn: 0.4888572\ttotal: 4m 28s\tremaining: 4m 27s\n",
      "600:\tlearn: 0.4812811\ttotal: 5m 19s\tremaining: 3m 32s\n",
      "700:\tlearn: 0.4747914\ttotal: 6m 11s\tremaining: 2m 38s\n",
      "800:\tlearn: 0.4690510\ttotal: 6m 59s\tremaining: 1m 44s\n",
      "900:\tlearn: 0.4639414\ttotal: 7m 49s\tremaining: 51.6s\n",
      "999:\tlearn: 0.4590031\ttotal: 8m 41s\tremaining: 0us\n",
      "accuracy = 0.7718222068317298\n",
      "precision = 0.5868775235531628\n",
      "recall = 0.7386296264927585\n",
      "f1_score = 0.6540668241646979\n"
     ]
    }
   ],
   "source": [
    "train_features, test_features = tfidf(train, test)\n",
    "cboost(train_features, test_features)"
   ],
   "metadata": {
    "collapsed": false,
    "ExecuteTime": {
     "end_time": "2024-06-06T01:44:33.105264Z",
     "start_time": "2024-06-06T01:35:25.029165Z"
    }
   },
   "id": "84b8453f8cf5cd80",
   "execution_count": 92
  },
  {
   "cell_type": "code",
   "outputs": [
    {
     "name": "stdout",
     "output_type": "stream",
     "text": [
      "accuracy = 0.7502535308812981\n",
      "precision = 0.6533647375504711\n",
      "recall = 0.662504264756056\n",
      "f1_score = 0.6579027613078096\n"
     ]
    }
   ],
   "source": [
    "train_features, test_features = tfidf(train, test)\n",
    "des_tree(train_features, test_features)"
   ],
   "metadata": {
    "collapsed": false,
    "ExecuteTime": {
     "end_time": "2024-06-06T01:51:51.901900Z",
     "start_time": "2024-06-06T01:44:33.119046Z"
    }
   },
   "id": "72672f59e4565c79",
   "execution_count": 93
  },
  {
   "cell_type": "code",
   "outputs": [
    {
     "name": "stdout",
     "output_type": "stream",
     "text": [
      "accuracy = 0.7748769447673699\n",
      "precision = 0.6887617765814267\n",
      "recall = 0.6957142371614043\n",
      "f1_score = 0.6922205501919078\n"
     ]
    }
   ],
   "source": [
    "train_features, test_features = bow(train, test)\n",
    "des_tree(train_features, test_features)"
   ],
   "metadata": {
    "collapsed": false,
    "ExecuteTime": {
     "end_time": "2024-06-06T01:58:20.494407Z",
     "start_time": "2024-06-06T01:51:51.911091Z"
    }
   },
   "id": "50038453ca0aa8d5",
   "execution_count": 94
  },
  {
   "cell_type": "code",
   "outputs": [
    {
     "name": "stderr",
     "output_type": "stream",
     "text": [
      "/Users/timurabdulkadirov/anaconda3/lib/python3.10/site-packages/sklearn/ensemble/_forest.py:424: FutureWarning: `max_features='auto'` has been deprecated in 1.1 and will be removed in 1.3. To keep the past behaviour, explicitly set `max_features='sqrt'` or remove this parameter as it is also the default value for RandomForestClassifiers and ExtraTreesClassifiers.\n",
      "  warn(\n"
     ]
    },
    {
     "name": "stdout",
     "output_type": "stream",
     "text": [
      "accuracy = 0.8261520195898984\n",
      "precision = 0.726278600269179\n",
      "recall = 0.7847093467117461\n",
      "f1_score = 0.7543641987173886\n"
     ]
    }
   ],
   "source": [
    "train_features, test_features = bow(train, test)\n",
    "ranfor(train_features, test_features)"
   ],
   "metadata": {
    "collapsed": false,
    "ExecuteTime": {
     "end_time": "2024-06-06T03:12:44.314572Z",
     "start_time": "2024-06-06T01:58:20.502219Z"
    }
   },
   "id": "5c8d0271da7e6483",
   "execution_count": 95
  },
  {
   "cell_type": "code",
   "outputs": [
    {
     "name": "stderr",
     "output_type": "stream",
     "text": [
      "/Users/timurabdulkadirov/anaconda3/lib/python3.10/site-packages/sklearn/ensemble/_forest.py:424: FutureWarning: `max_features='auto'` has been deprecated in 1.1 and will be removed in 1.3. To keep the past behaviour, explicitly set `max_features='sqrt'` or remove this parameter as it is also the default value for RandomForestClassifiers and ExtraTreesClassifiers.\n",
      "  warn(\n"
     ]
    },
    {
     "name": "stdout",
     "output_type": "stream",
     "text": [
      "accuracy = 0.8245813648618566\n",
      "precision = 0.6970053835800808\n",
      "recall = 0.7999922762029814\n",
      "f1_score = 0.7449563059661235\n"
     ]
    }
   ],
   "source": [
    "train_features, test_features = tfidf(train, test)\n",
    "ranfor(train_features, test_features)"
   ],
   "metadata": {
    "collapsed": false,
    "ExecuteTime": {
     "end_time": "2024-06-06T04:03:49.293284Z",
     "start_time": "2024-06-06T03:12:44.327900Z"
    }
   },
   "id": "ce1295f5ff58b1f1",
   "execution_count": 96
  },
  {
   "cell_type": "code",
   "outputs": [
    {
     "name": "stdout",
     "output_type": "stream",
     "text": [
      "                                           question1  \\\n",
      "0     what step step guide invest share market india   \n",
      "1               what story kohinoor kohinoor diamond   \n",
      "2  how i increase speed internet connection using...   \n",
      "3               why i mentally lonely how i solve it   \n",
      "4  which one dissolve water quikly sugar salt met...   \n",
      "\n",
      "                                           question2  is_duplicate  \n",
      "0           what step step guide invest share market             0  \n",
      "1  what would happen indian government stole kohi...             0  \n",
      "2           how internet speed increased hacking dns             0  \n",
      "3           find remainder math2324math divided 2423             0  \n",
      "4                which fish would survive salt water             0  \n"
     ]
    }
   ],
   "source": [
    "data = data_const\n",
    "train, test = train_test_lem(data)"
   ],
   "metadata": {
    "collapsed": false,
    "ExecuteTime": {
     "end_time": "2024-06-06T04:05:36.793618Z",
     "start_time": "2024-06-06T04:03:49.480414Z"
    }
   },
   "id": "f246f5f5ede5651d",
   "execution_count": 97
  },
  {
   "cell_type": "code",
   "outputs": [
    {
     "name": "stderr",
     "output_type": "stream",
     "text": [
      "/Users/timurabdulkadirov/anaconda3/lib/python3.10/site-packages/sklearn/svm/_base.py:299: ConvergenceWarning: Solver terminated early (max_iter=1000).  Consider pre-processing your data with StandardScaler or MinMaxScaler.\n",
      "  warnings.warn(\n"
     ]
    },
    {
     "name": "stdout",
     "output_type": "stream",
     "text": [
      "accuracy = 0.5402310222859829\n",
      "precision = 0.548485868102288\n",
      "recall = 0.40693494433072047\n",
      "f1_score = 0.4672246266731635\n"
     ]
    }
   ],
   "source": [
    "train_features, test_features = tfidf(train, test)\n",
    "svm(train_features, test_features)"
   ],
   "metadata": {
    "collapsed": false,
    "ExecuteTime": {
     "end_time": "2024-06-06T04:06:51.960933Z",
     "start_time": "2024-06-06T04:05:36.797168Z"
    }
   },
   "id": "87e078188a499af4",
   "execution_count": 98
  },
  {
   "cell_type": "code",
   "outputs": [
    {
     "name": "stderr",
     "output_type": "stream",
     "text": [
      "/Users/timurabdulkadirov/anaconda3/lib/python3.10/site-packages/sklearn/svm/_base.py:299: ConvergenceWarning: Solver terminated early (max_iter=1000).  Consider pre-processing your data with StandardScaler or MinMaxScaler.\n",
      "  warnings.warn(\n"
     ]
    },
    {
     "name": "stdout",
     "output_type": "stream",
     "text": [
      "accuracy = 0.47923520245368423\n",
      "precision = 0.8210296096904441\n",
      "recall = 0.3987743095277006\n",
      "f1_score = 0.5368166318336817\n"
     ]
    }
   ],
   "source": [
    "train_features, test_features = bow(train, test)\n",
    "svm(train_features, test_features)"
   ],
   "metadata": {
    "collapsed": false,
    "ExecuteTime": {
     "end_time": "2024-06-06T04:08:10.413732Z",
     "start_time": "2024-06-06T04:06:51.960329Z"
    }
   },
   "id": "360861e0afb25564",
   "execution_count": 99
  },
  {
   "cell_type": "code",
   "outputs": [
    {
     "name": "stdout",
     "output_type": "stream",
     "text": [
      "0:\tlearn: 0.6804729\ttotal: 379ms\tremaining: 6m 18s\n",
      "100:\tlearn: 0.5722553\ttotal: 25.8s\tremaining: 3m 50s\n",
      "200:\tlearn: 0.5453968\ttotal: 51.7s\tremaining: 3m 25s\n",
      "300:\tlearn: 0.5277511\ttotal: 1m 15s\tremaining: 2m 55s\n",
      "400:\tlearn: 0.5151371\ttotal: 1m 38s\tremaining: 2m 26s\n",
      "500:\tlearn: 0.5047034\ttotal: 2m 1s\tremaining: 2m\n",
      "600:\tlearn: 0.4961164\ttotal: 2m 22s\tremaining: 1m 34s\n",
      "700:\tlearn: 0.4886334\ttotal: 2m 45s\tremaining: 1m 10s\n",
      "800:\tlearn: 0.4818330\ttotal: 3m 7s\tremaining: 46.6s\n",
      "900:\tlearn: 0.4759184\ttotal: 3m 29s\tremaining: 23s\n",
      "999:\tlearn: 0.4706546\ttotal: 3m 51s\tremaining: 0us\n",
      "accuracy = 0.7678028148111504\n",
      "precision = 0.5334118438761777\n",
      "recall = 0.7635952025432301\n",
      "f1_score = 0.6280778906915474\n"
     ]
    }
   ],
   "source": [
    "train_features, test_features = bow(train, test)\n",
    "cboost(train_features, test_features)"
   ],
   "metadata": {
    "collapsed": false,
    "ExecuteTime": {
     "end_time": "2024-06-06T04:12:29.649104Z",
     "start_time": "2024-06-06T04:08:10.413354Z"
    }
   },
   "id": "c72a9dac79c26149",
   "execution_count": 100
  },
  {
   "cell_type": "code",
   "outputs": [
    {
     "name": "stdout",
     "output_type": "stream",
     "text": [
      "0:\tlearn: 0.6786020\ttotal: 1.62s\tremaining: 27m 2s\n",
      "100:\tlearn: 0.5530912\ttotal: 1m 5s\tremaining: 9m 47s\n",
      "200:\tlearn: 0.5282327\ttotal: 2m 7s\tremaining: 8m 27s\n",
      "300:\tlearn: 0.5128987\ttotal: 3m 5s\tremaining: 7m 11s\n",
      "400:\tlearn: 0.5015113\ttotal: 4m 5s\tremaining: 6m 6s\n",
      "500:\tlearn: 0.4923144\ttotal: 5m 2s\tremaining: 5m 1s\n",
      "600:\tlearn: 0.4845876\ttotal: 6m\tremaining: 3m 59s\n",
      "700:\tlearn: 0.4781411\ttotal: 6m 59s\tremaining: 2m 58s\n",
      "800:\tlearn: 0.4725698\ttotal: 7m 56s\tremaining: 1m 58s\n",
      "900:\tlearn: 0.4672053\ttotal: 8m 54s\tremaining: 58.8s\n",
      "999:\tlearn: 0.4625261\ttotal: 9m 53s\tremaining: 0us\n",
      "accuracy = 0.7671720794479211\n",
      "precision = 0.5734522207267833\n",
      "recall = 0.7348654708520179\n",
      "f1_score = 0.6442016933776837\n"
     ]
    }
   ],
   "source": [
    "train_features, test_features = tfidf(train, test)\n",
    "cboost(train_features, test_features)"
   ],
   "metadata": {
    "collapsed": false,
    "ExecuteTime": {
     "end_time": "2024-06-06T04:22:51.349027Z",
     "start_time": "2024-06-06T04:12:29.662695Z"
    }
   },
   "id": "3c59f963c358b4c7",
   "execution_count": 101
  },
  {
   "cell_type": "code",
   "outputs": [
    {
     "name": "stdout",
     "output_type": "stream",
     "text": [
      "accuracy = 0.7571297830765045\n",
      "precision = 0.5806191117092867\n",
      "recall = 0.7063446582071224\n",
      "f1_score = 0.6373407202216067\n"
     ]
    }
   ],
   "source": [
    "train_features, test_features = tfidf(train, test)\n",
    "log_reg(train_features, test_features)"
   ],
   "metadata": {
    "collapsed": false,
    "ExecuteTime": {
     "end_time": "2024-06-06T04:23:25.716327Z",
     "start_time": "2024-06-06T04:22:51.358189Z"
    }
   },
   "id": "faf9294a57be60d6",
   "execution_count": 102
  },
  {
   "cell_type": "code",
   "outputs": [
    {
     "name": "stdout",
     "output_type": "stream",
     "text": [
      "accuracy = 0.7564990477132751\n",
      "precision = 0.6063257065948856\n",
      "recall = 0.692837094851782\n",
      "f1_score = 0.6467009994796246\n"
     ]
    }
   ],
   "source": [
    "train_features, test_features = bow(train, test)\n",
    "log_reg(train_features, test_features)"
   ],
   "metadata": {
    "collapsed": false,
    "ExecuteTime": {
     "end_time": "2024-06-06T04:24:26.412941Z",
     "start_time": "2024-06-06T04:23:25.718254Z"
    }
   },
   "id": "6ddaedd713fddf46",
   "execution_count": 103
  },
  {
   "cell_type": "code",
   "outputs": [
    {
     "name": "stdout",
     "output_type": "stream",
     "text": [
      "accuracy = 0.7469885478245814\n",
      "precision = 0.6462651413189772\n",
      "recall = 0.6588570252469813\n",
      "f1_score = 0.6525003397200707\n"
     ]
    }
   ],
   "source": [
    "train_features, test_features = tfidf(train, test)\n",
    "des_tree(train_features, test_features)"
   ],
   "metadata": {
    "collapsed": false,
    "ExecuteTime": {
     "end_time": "2024-06-06T04:31:45.104854Z",
     "start_time": "2024-06-06T04:24:26.415150Z"
    }
   },
   "id": "870a2464dd143fee",
   "execution_count": 104
  },
  {
   "cell_type": "code",
   "outputs": [
    {
     "name": "stdout",
     "output_type": "stream",
     "text": [
      "accuracy = 0.7736031066808479\n",
      "precision = 0.6830417227456258\n",
      "recall = 0.6955389570341944\n",
      "f1_score = 0.6892336943605065\n"
     ]
    }
   ],
   "source": [
    "train_features, test_features = bow(train, test)\n",
    "des_tree(train_features, test_features)"
   ],
   "metadata": {
    "collapsed": false,
    "ExecuteTime": {
     "end_time": "2024-06-06T04:39:02.721333Z",
     "start_time": "2024-06-06T04:31:45.108553Z"
    }
   },
   "id": "7ebbef96244b14fe",
   "execution_count": 105
  },
  {
   "cell_type": "code",
   "outputs": [
    {
     "name": "stderr",
     "output_type": "stream",
     "text": [
      "/Users/timurabdulkadirov/anaconda3/lib/python3.10/site-packages/sklearn/ensemble/_forest.py:424: FutureWarning: `max_features='auto'` has been deprecated in 1.1 and will be removed in 1.3. To keep the past behaviour, explicitly set `max_features='sqrt'` or remove this parameter as it is also the default value for RandomForestClassifiers and ExtraTreesClassifiers.\n",
      "  warn(\n"
     ]
    },
    {
     "name": "stdout",
     "output_type": "stream",
     "text": [
      "accuracy = 0.8216750352469762\n",
      "precision = 0.6889973082099596\n",
      "recall = 0.7982302264842318\n",
      "f1_score = 0.7396023332671158\n"
     ]
    }
   ],
   "source": [
    "train_features, test_features = tfidf(train, test)\n",
    "ranfor(train_features, test_features)"
   ],
   "metadata": {
    "collapsed": false,
    "ExecuteTime": {
     "end_time": "2024-06-06T05:32:57.935201Z",
     "start_time": "2024-06-06T04:39:02.721003Z"
    }
   },
   "id": "6bee59f51e8f8c8",
   "execution_count": 106
  },
  {
   "cell_type": "code",
   "outputs": [
    {
     "name": "stderr",
     "output_type": "stream",
     "text": [
      "/Users/timurabdulkadirov/anaconda3/lib/python3.10/site-packages/sklearn/ensemble/_forest.py:424: FutureWarning: `max_features='auto'` has been deprecated in 1.1 and will be removed in 1.3. To keep the past behaviour, explicitly set `max_features='sqrt'` or remove this parameter as it is also the default value for RandomForestClassifiers and ExtraTreesClassifiers.\n",
      "  warn(\n"
     ]
    },
    {
     "name": "stdout",
     "output_type": "stream",
     "text": [
      "accuracy = 0.8234683024561578\n",
      "precision = 0.721399730820996\n",
      "recall = 0.7815119924181673\n",
      "f1_score = 0.7502537005283969\n"
     ]
    }
   ],
   "source": [
    "train_features, test_features = bow(train, test)\n",
    "ranfor(train_features, test_features)"
   ],
   "metadata": {
    "collapsed": false,
    "ExecuteTime": {
     "end_time": "2024-06-06T06:53:59.941376Z",
     "start_time": "2024-06-06T05:32:57.935908Z"
    }
   },
   "id": "a454efffb6972965",
   "execution_count": 107
  },
  {
   "cell_type": "code",
   "outputs": [
    {
     "name": "stdout",
     "output_type": "stream",
     "text": [
      "Requirement already satisfied: gensim in /Users/timurabdulkadirov/anaconda3/lib/python3.10/site-packages (4.3.0)\r\n",
      "Requirement already satisfied: numpy>=1.18.5 in /Users/timurabdulkadirov/anaconda3/lib/python3.10/site-packages (from gensim) (1.24.4)\r\n",
      "Requirement already satisfied: smart-open>=1.8.1 in /Users/timurabdulkadirov/anaconda3/lib/python3.10/site-packages (from gensim) (5.2.1)\r\n",
      "Requirement already satisfied: FuzzyTM>=0.4.0 in /Users/timurabdulkadirov/anaconda3/lib/python3.10/site-packages (from gensim) (2.0.9)\r\n",
      "Requirement already satisfied: scipy>=1.7.0 in /Users/timurabdulkadirov/anaconda3/lib/python3.10/site-packages (from gensim) (1.10.1)\r\n",
      "Requirement already satisfied: pyfume in /Users/timurabdulkadirov/anaconda3/lib/python3.10/site-packages (from FuzzyTM>=0.4.0->gensim) (0.3.4)\r\n",
      "Requirement already satisfied: pandas in /Users/timurabdulkadirov/anaconda3/lib/python3.10/site-packages (from FuzzyTM>=0.4.0->gensim) (1.5.3)\r\n",
      "Requirement already satisfied: python-dateutil>=2.8.1 in /Users/timurabdulkadirov/anaconda3/lib/python3.10/site-packages (from pandas->FuzzyTM>=0.4.0->gensim) (2.8.2)\r\n",
      "Requirement already satisfied: pytz>=2020.1 in /Users/timurabdulkadirov/anaconda3/lib/python3.10/site-packages (from pandas->FuzzyTM>=0.4.0->gensim) (2022.7)\r\n",
      "Requirement already satisfied: fst-pso==1.8.1 in /Users/timurabdulkadirov/anaconda3/lib/python3.10/site-packages (from pyfume->FuzzyTM>=0.4.0->gensim) (1.8.1)\r\n",
      "Requirement already satisfied: simpful==2.12.0 in /Users/timurabdulkadirov/anaconda3/lib/python3.10/site-packages (from pyfume->FuzzyTM>=0.4.0->gensim) (2.12.0)\r\n",
      "Requirement already satisfied: miniful in /Users/timurabdulkadirov/anaconda3/lib/python3.10/site-packages (from fst-pso==1.8.1->pyfume->FuzzyTM>=0.4.0->gensim) (0.0.6)\r\n",
      "Requirement already satisfied: six>=1.5 in /Users/timurabdulkadirov/anaconda3/lib/python3.10/site-packages (from python-dateutil>=2.8.1->pandas->FuzzyTM>=0.4.0->gensim) (1.16.0)\r\n"
     ]
    }
   ],
   "source": [
    "! pip install gensim"
   ],
   "metadata": {
    "collapsed": false,
    "ExecuteTime": {
     "end_time": "2024-06-06T06:54:05.229581Z",
     "start_time": "2024-06-06T06:53:59.992774Z"
    }
   },
   "id": "17bf8dd35459715b",
   "execution_count": 108
  },
  {
   "cell_type": "code",
   "outputs": [],
   "source": [
    "df = pd.read_csv(\"train.csv\")\n",
    "df = df.drop(columns=[\"qid1\", \"qid2\", \"id\"])\n",
    "df = df.dropna()\n",
    "df.reset_index(drop=True, inplace=True)"
   ],
   "metadata": {
    "collapsed": false,
    "ExecuteTime": {
     "end_time": "2024-06-06T06:54:06.570537Z",
     "start_time": "2024-06-06T06:54:05.242551Z"
    }
   },
   "id": "ace06e1fb4b3ec52",
   "execution_count": 109
  },
  {
   "cell_type": "code",
   "outputs": [],
   "source": [
    "from gensim.models import Word2Vec"
   ],
   "metadata": {
    "collapsed": false,
    "ExecuteTime": {
     "end_time": "2024-06-07T01:19:45.384206Z",
     "start_time": "2024-06-07T01:19:44.862958Z"
    }
   },
   "id": "ae9653bf7c3eed9e",
   "execution_count": 8
  },
  {
   "cell_type": "code",
   "outputs": [],
   "source": [
    "def preprocess_text_wtv(text):\n",
    "    text = text.lower()  # Приведение к нижнему регистру\n",
    "    text = re.sub(r\"[^\\w\\s]\", '', text)  # Удаление знаков препинания\n",
    "    text = text.strip()  # Удаление лишних пробелов\n",
    "    return text"
   ],
   "metadata": {
    "collapsed": false,
    "ExecuteTime": {
     "end_time": "2024-06-07T01:30:55.266579Z",
     "start_time": "2024-06-07T01:30:55.050815Z"
    }
   },
   "id": "dca13bc254667271",
   "execution_count": 1
  },
  {
   "cell_type": "code",
   "outputs": [],
   "source": [
    "df['question1'] = df['question1'].apply(preprocess_text_wtv)\n",
    "df['question2'] = df['question2'].apply(preprocess_text_wtv)"
   ],
   "metadata": {
    "collapsed": false,
    "ExecuteTime": {
     "end_time": "2024-06-06T06:54:08.905597Z",
     "start_time": "2024-06-06T06:54:07.123315Z"
    }
   },
   "id": "f45632f734c900fa",
   "execution_count": 112
  },
  {
   "cell_type": "code",
   "outputs": [],
   "source": [
    "df['question1'] = df['question1'].apply(lambda x: x.split())\n",
    "df['question2'] = df['question2'].apply(lambda x: x.split())\n",
    "\n",
    "sentences = df['question1'].tolist() + df['question2'].tolist()"
   ],
   "metadata": {
    "collapsed": false,
    "ExecuteTime": {
     "end_time": "2024-06-06T06:54:12.501928Z",
     "start_time": "2024-06-06T06:54:08.905812Z"
    }
   },
   "id": "efbb4aa9d64c9760",
   "execution_count": 113
  },
  {
   "cell_type": "code",
   "outputs": [],
   "source": [
    "word2vec_model = Word2Vec(sentences)"
   ],
   "metadata": {
    "collapsed": false,
    "ExecuteTime": {
     "end_time": "2024-06-06T06:54:38.516637Z",
     "start_time": "2024-06-06T06:54:12.502377Z"
    }
   },
   "id": "987cc9578bc7bd2f",
   "execution_count": 114
  },
  {
   "cell_type": "code",
   "outputs": [],
   "source": [
    "def get_question_vector(question, model):\n",
    "    words = [word for word in question if word in model.wv]\n",
    "    if len(words) == 0:\n",
    "        return np.zeros(model.vector_size)\n",
    "    return np.mean(model.wv[words], axis=0)"
   ],
   "metadata": {
    "collapsed": false,
    "ExecuteTime": {
     "end_time": "2024-06-06T06:54:38.538902Z",
     "start_time": "2024-06-06T06:54:38.521510Z"
    }
   },
   "id": "5df261fc6017eaf6",
   "execution_count": 115
  },
  {
   "cell_type": "code",
   "outputs": [],
   "source": [
    "df['q1_vector'] = df['question1'].apply(lambda x: get_question_vector(x, word2vec_model))\n",
    "df['q2_vector'] = df['question2'].apply(lambda x: get_question_vector(x, word2vec_model))\n"
   ],
   "metadata": {
    "collapsed": false,
    "ExecuteTime": {
     "end_time": "2024-06-06T06:55:28.164859Z",
     "start_time": "2024-06-06T06:54:38.525372Z"
    }
   },
   "id": "ad52364b48a0b37",
   "execution_count": 116
  },
  {
   "cell_type": "code",
   "outputs": [],
   "source": [
    "train, test = train_test_split(df, test_size=0.2, random_state=42)"
   ],
   "metadata": {
    "collapsed": false,
    "ExecuteTime": {
     "end_time": "2024-06-06T06:55:29.004277Z",
     "start_time": "2024-06-06T06:55:28.312405Z"
    }
   },
   "id": "b4bb252494a61888",
   "execution_count": 117
  },
  {
   "cell_type": "code",
   "outputs": [],
   "source": [
    "X_train = np.array([np.concatenate((v1, v2)) for v1, v2 in zip(train['q1_vector'], train['q2_vector'])])\n",
    "X_test = np.array([np.concatenate((v1, v2)) for v1, v2 in zip(test['q1_vector'], test['q2_vector'])])\n",
    "y_train = train['is_duplicate']\n",
    "y_test = test['is_duplicate']"
   ],
   "metadata": {
    "collapsed": false,
    "ExecuteTime": {
     "end_time": "2024-06-06T06:55:31.570784Z",
     "start_time": "2024-06-06T06:55:29.009348Z"
    }
   },
   "id": "bf5baa4758d0c104",
   "execution_count": 118
  },
  {
   "cell_type": "code",
   "outputs": [
    {
     "name": "stdout",
     "output_type": "stream",
     "text": [
      "accuracy = 0.7164535358282421\n",
      "precision = 0.673623334171486\n",
      "recall = 0.4490144810941271\n",
      "f1_score = 0.5388498903795482\n"
     ]
    },
    {
     "name": "stderr",
     "output_type": "stream",
     "text": [
      "/Users/timurabdulkadirov/anaconda3/lib/python3.10/site-packages/sklearn/linear_model/_logistic.py:458: ConvergenceWarning: lbfgs failed to converge (status=1):\n",
      "STOP: TOTAL NO. of ITERATIONS REACHED LIMIT.\n",
      "\n",
      "Increase the number of iterations (max_iter) or scale the data as shown in:\n",
      "    https://scikit-learn.org/stable/modules/preprocessing.html\n",
      "Please also refer to the documentation for alternative solver options:\n",
      "    https://scikit-learn.org/stable/modules/linear_model.html#logistic-regression\n",
      "  n_iter_i = _check_optimize_result(\n"
     ]
    }
   ],
   "source": [
    "model = LogisticRegression()\n",
    "model.fit(X_train, y_train)\n",
    "\n",
    "# Предсказание и оценка модели\n",
    "predictions = model.predict(X_test)\n",
    "accuracy = accuracy_score(y_test, predictions)\n",
    "precision = precision_score(y_test, predictions)\n",
    "recall = recall_score(y_test, predictions)\n",
    "f1 = f1_score(y_test, predictions)\n",
    "\n",
    "print(f\"accuracy = {accuracy}\")\n",
    "print(f\"precision = {precision}\")\n",
    "print(f\"recall = {recall}\")\n",
    "print(f\"f1_score = {f1}\")"
   ],
   "metadata": {
    "collapsed": false,
    "ExecuteTime": {
     "end_time": "2024-06-06T06:55:41.128001Z",
     "start_time": "2024-06-06T06:55:31.577191Z"
    }
   },
   "id": "88f70cdd525ffd1",
   "execution_count": 119
  },
  {
   "cell_type": "code",
   "outputs": [],
   "source": [
    "df = pd.read_csv(\"train.csv\")\n",
    "df = df.drop(columns=[\"qid1\", \"qid2\", \"id\"])\n",
    "df = df.dropna()\n",
    "df.reset_index(drop=True, inplace=True)"
   ],
   "metadata": {
    "collapsed": false,
    "ExecuteTime": {
     "end_time": "2024-06-07T01:31:28.379772Z",
     "start_time": "2024-06-07T01:31:23.966025Z"
    }
   },
   "id": "14c596e11b933175",
   "execution_count": 5
  },
  {
   "cell_type": "code",
   "outputs": [],
   "source": [
    "df['question1'] = df['question1'].apply(preprocess_text_wtv)\n",
    "df['question2'] = df['question2'].apply(preprocess_text_wtv)"
   ],
   "metadata": {
    "collapsed": false,
    "ExecuteTime": {
     "end_time": "2024-06-07T01:31:36.076556Z",
     "start_time": "2024-06-07T01:31:28.341645Z"
    }
   },
   "id": "945a345ca4a1ed45",
   "execution_count": 6
  },
  {
   "cell_type": "code",
   "outputs": [],
   "source": [
    "import gensim.downloader as api"
   ],
   "metadata": {
    "collapsed": false,
    "ExecuteTime": {
     "end_time": "2024-06-07T01:31:36.371562Z",
     "start_time": "2024-06-07T01:31:36.004891Z"
    }
   },
   "id": "3ef46ee17a72cc4b",
   "execution_count": 7
  },
  {
   "cell_type": "code",
   "outputs": [],
   "source": [
    "word2vec_model = api.load('word2vec-google-news-300')"
   ],
   "metadata": {
    "collapsed": false,
    "ExecuteTime": {
     "end_time": "2024-06-07T01:32:40.878292Z",
     "start_time": "2024-06-07T01:31:36.376375Z"
    }
   },
   "id": "681c6538f2c9a4a2",
   "execution_count": 8
  },
  {
   "cell_type": "code",
   "outputs": [
    {
     "name": "stderr",
     "output_type": "stream",
     "text": [
      "/Users/timurabdulkadirov/anaconda3/lib/python3.10/site-packages/sklearn/linear_model/_logistic.py:458: ConvergenceWarning: lbfgs failed to converge (status=1):\n",
      "STOP: TOTAL NO. of ITERATIONS REACHED LIMIT.\n",
      "\n",
      "Increase the number of iterations (max_iter) or scale the data as shown in:\n",
      "    https://scikit-learn.org/stable/modules/preprocessing.html\n",
      "Please also refer to the documentation for alternative solver options:\n",
      "    https://scikit-learn.org/stable/modules/linear_model.html#logistic-regression\n",
      "  n_iter_i = _check_optimize_result(\n"
     ]
    },
    {
     "name": "stdout",
     "output_type": "stream",
     "text": [
      "accuracy = 0.6931905315491356\n",
      "precision = 0.6380674947784984\n",
      "recall = 0.38914588361491015\n",
      "f1_score = 0.483446466497314\n"
     ]
    }
   ],
   "source": [
    "def question_to_vector(question, model):\n",
    "    words = [word for word in question if word in model]\n",
    "    if len(words) == 0:\n",
    "        return np.zeros(model.vector_size)\n",
    "    return np.mean([model[word] for word in words], axis=0)\n",
    "\n",
    "# Предобработка текстов (разделение на слова)\n",
    "df['question1'] = df['question1'].apply(lambda x: x.split())\n",
    "df['question2'] = df['question2'].apply(lambda x: x.split())\n",
    "\n",
    "# Преобразование вопросов в вектора\n",
    "df['q1_vector'] = df['question1'].apply(lambda x: question_to_vector(x, word2vec_model))\n",
    "df['q2_vector'] = df['question2'].apply(lambda x: question_to_vector(x, word2vec_model))\n",
    "\n",
    "# Разделение данных на обучающую и тестовую выборки\n",
    "train, test = train_test_split(df, test_size=0.2, random_state=42)\n",
    "\n",
    "# Преобразование векторов вопросов в numpy массивы\n",
    "X_train = np.array([np.concatenate((v1, v2)) for v1, v2 in zip(train['q1_vector'], train['q2_vector'])])\n",
    "X_test = np.array([np.concatenate((v1, v2)) for v1, v2 in zip(test['q1_vector'], test['q2_vector'])])\n",
    "y_train = train['is_duplicate']\n",
    "y_test = test['is_duplicate']\n",
    "\n",
    "# Обучение модели логистической регрессии\n",
    "model = LogisticRegression()\n",
    "model.fit(X_train, y_train)\n",
    "\n",
    "# Предсказание и оценка модели\n",
    "predictions = model.predict(X_test)\n",
    "accuracy = accuracy_score(y_test, predictions)\n",
    "precision = precision_score(y_test, predictions)\n",
    "recall = recall_score(y_test, predictions)\n",
    "f1 = f1_score(y_test, predictions)\n",
    "\n",
    "print(f\"accuracy = {accuracy}\")\n",
    "print(f\"precision = {precision}\")\n",
    "print(f\"recall = {recall}\")\n",
    "print(f\"f1_score = {f1}\")"
   ],
   "metadata": {
    "collapsed": false,
    "ExecuteTime": {
     "end_time": "2024-06-07T01:34:11.550715Z",
     "start_time": "2024-06-07T01:32:42.511479Z"
    }
   },
   "id": "aba448b8be982d05",
   "execution_count": 9
  }
 ],
 "metadata": {
  "kernelspec": {
   "display_name": "Python 3",
   "language": "python",
   "name": "python3"
  },
  "language_info": {
   "codemirror_mode": {
    "name": "ipython",
    "version": 2
   },
   "file_extension": ".py",
   "mimetype": "text/x-python",
   "name": "python",
   "nbconvert_exporter": "python",
   "pygments_lexer": "ipython2",
   "version": "2.7.6"
  }
 },
 "nbformat": 4,
 "nbformat_minor": 5
}
