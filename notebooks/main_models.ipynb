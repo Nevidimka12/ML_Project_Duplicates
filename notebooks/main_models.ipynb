{
 "cells": [
  {
   "cell_type": "code",
   "execution_count": 13,
   "id": "initial_id",
   "metadata": {
    "collapsed": true,
    "ExecuteTime": {
     "end_time": "2024-06-06T21:06:10.171074Z",
     "start_time": "2024-06-06T21:06:10.161515Z"
    }
   },
   "outputs": [],
   "source": [
    "import pandas as pd\n",
    "import numpy as np\n",
    "from sklearn.feature_extraction.text import TfidfVectorizer\n",
    "from sklearn.linear_model import LogisticRegression\n",
    "from sklearn.metrics import accuracy_score, f1_score, precision_score, recall_score\n",
    "from sklearn.model_selection import train_test_split\n",
    "from sklearn.feature_extraction.text import CountVectorizer\n",
    "from sklearn.tree import DecisionTreeClassifier\n",
    "from sklearn.svm import SVC\n",
    "from sklearn.preprocessing import StandardScaler\n",
    "from catboost import CatBoostClassifier\n",
    "from sklearn.ensemble import RandomForestClassifier\n",
    "import nltk\n",
    "from nltk.corpus import stopwords\n",
    "import re\n",
    "import pymorphy2\n",
    "from nltk.stem.porter import *"
   ]
  },
  {
   "cell_type": "code",
   "outputs": [],
   "source": [
    "data = pd.read_csv(\"train.csv\")\n",
    "data = data.drop(columns=[\"qid1\", \"qid2\", \"id\"])\n",
    "data = data.dropna()\n",
    "data.reset_index(drop=True, inplace=True)"
   ],
   "metadata": {
    "collapsed": false,
    "ExecuteTime": {
     "end_time": "2024-06-06T21:06:14.438734Z",
     "start_time": "2024-06-06T21:06:11.808743Z"
    }
   },
   "id": "e34d613f38c459c5",
   "execution_count": 14
  },
  {
   "cell_type": "code",
   "outputs": [
    {
     "name": "stderr",
     "output_type": "stream",
     "text": [
      "[nltk_data] Downloading package stopwords to\n",
      "[nltk_data]     /Users/timurabdulkadirov/nltk_data...\n",
      "[nltk_data]   Package stopwords is already up-to-date!\n"
     ]
    }
   ],
   "source": [
    "nltk.download('stopwords')\n",
    "stop_words = set(stopwords.words('english'))\n",
    "\n",
    "def delete_stop_words(text):\n",
    "    return ' '.join([word.lower() for word in text.split() if word not in stop_words])\n",
    "\n",
    "data['question1'] = data['question1'].apply(delete_stop_words)\n",
    "data['question2'] = data['question2'].apply(delete_stop_words)"
   ],
   "metadata": {
    "collapsed": false,
    "ExecuteTime": {
     "end_time": "2024-06-06T21:06:18.244027Z",
     "start_time": "2024-06-06T21:06:14.410007Z"
    }
   },
   "id": "d9e8deafe268273c",
   "execution_count": 15
  },
  {
   "cell_type": "code",
   "outputs": [],
   "source": [
    "def preprocess_text(text): \n",
    "    text = re.sub(r\"[^\\w\\s]\", '', text.lower())\n",
    "    return text.split()"
   ],
   "metadata": {
    "collapsed": false,
    "ExecuteTime": {
     "end_time": "2024-06-06T21:06:18.245667Z",
     "start_time": "2024-06-06T21:06:18.190457Z"
    }
   },
   "id": "1b5de84cc4c440db",
   "execution_count": 16
  },
  {
   "cell_type": "code",
   "outputs": [],
   "source": [
    "def train_test_stem(data2):\n",
    "    stemmer = PorterStemmer()\n",
    "\n",
    "    def preprocess_stem(text):\n",
    "        return ' '.join([stemmer.stem(word) for word in preprocess_text(text)])\n",
    "    \n",
    "    data2['question1'] = data2['question1'].apply(preprocess_stem)\n",
    "    data2['question2'] = data2['question2'].apply(preprocess_stem)\n",
    "    print(data2.head())\n",
    "    train, test = train_test_split(data2, test_size=0.2, random_state=0)\n",
    "    return train, test"
   ],
   "metadata": {
    "collapsed": false,
    "ExecuteTime": {
     "end_time": "2024-06-06T21:06:18.247097Z",
     "start_time": "2024-06-06T21:06:18.202367Z"
    }
   },
   "id": "218be081d911d27f",
   "execution_count": 17
  },
  {
   "cell_type": "code",
   "outputs": [
    {
     "name": "stdout",
     "output_type": "stream",
     "text": [
      "                                           question1  \\\n",
      "0      what step step guid invest share market india   \n",
      "1               what stori kohinoor kohinoor diamond   \n",
      "2       how i increas speed internet connect use vpn   \n",
      "3                    whi i mental lone how i solv it   \n",
      "4  which one dissolv water quikli sugar salt meth...   \n",
      "\n",
      "                                           question2  is_duplicate  \n",
      "0            what step step guid invest share market             0  \n",
      "1  what would happen indian govern stole kohinoor...             0  \n",
      "2                 how internet speed increas hack dn             0  \n",
      "3               find remaind math2324math divid 2423             0  \n",
      "4                 which fish would surviv salt water             0  \n"
     ]
    }
   ],
   "source": [
    "train, test = train_test_stem(data)"
   ],
   "metadata": {
    "collapsed": false,
    "ExecuteTime": {
     "end_time": "2024-06-06T21:08:33.636011Z",
     "start_time": "2024-06-06T21:06:18.214533Z"
    }
   },
   "id": "aa205c26fd9bec7c",
   "execution_count": 18
  },
  {
   "cell_type": "code",
   "outputs": [],
   "source": [
    "def bow (df_train, df_test):\n",
    "    vectorizer = CountVectorizer()\n",
    "    questions = pd.concat([df_train['question1'], df_train['question2']])\n",
    "    vectorizer.fit(questions)\n",
    "    q1_train_bow = vectorizer.transform(df_train['question1'])\n",
    "    q2_train_bow = vectorizer.transform(df_train['question2'])\n",
    "    q1_test_bow = vectorizer.transform(df_test['question1'])\n",
    "    q2_test_bow = vectorizer.transform(df_test['question2'])\n",
    "    df_train_features = q1_train_bow + q2_train_bow # Вычитание дает результаты порядком хуже\n",
    "    df_test_features = q1_test_bow + q2_test_bow\n",
    "    return df_train_features, df_test_features"
   ],
   "metadata": {
    "collapsed": false,
    "ExecuteTime": {
     "end_time": "2024-06-06T21:08:33.648280Z",
     "start_time": "2024-06-06T21:08:33.640774Z"
    }
   },
   "id": "e8f7c8f7a9e81054",
   "execution_count": 19
  },
  {
   "cell_type": "code",
   "outputs": [],
   "source": [
    "def cboost(train_features, test_features, it):\n",
    "    model = CatBoostClassifier(iterations=it, learning_rate=0.1, depth=6, verbose=100)\n",
    "    model.fit(train_features, train['is_duplicate'])\n",
    "    predictions = model.predict(test_features)\n",
    "    accuracy = accuracy_score(predictions, test['is_duplicate'])\n",
    "    print(f\"accuracy = {accuracy}\")\n",
    "    precision = precision_score(predictions, test['is_duplicate'])\n",
    "    print(f\"precision = {precision}\")\n",
    "    recall = recall_score(predictions, test['is_duplicate'])\n",
    "    print(f\"recall = {recall}\")\n",
    "    f1_met = f1_score(predictions, test['is_duplicate'])\n",
    "    print(f\"f1_score = {f1_met}\")"
   ],
   "metadata": {
    "collapsed": false,
    "ExecuteTime": {
     "end_time": "2024-06-06T21:11:51.623527Z",
     "start_time": "2024-06-06T21:11:51.606643Z"
    }
   },
   "id": "5d5e7f3079021837",
   "execution_count": 26
  },
  {
   "cell_type": "code",
   "outputs": [],
   "source": [
    "def ranfor(train_features, test_features, est):\n",
    "    model = RandomForestClassifier(\n",
    "        n_estimators=est,       \n",
    "        criterion='entropy',          \n",
    "        max_depth=None,           \n",
    "        min_samples_split=2,       \n",
    "        min_samples_leaf=1,   \n",
    "        max_features='auto',      \n",
    "        bootstrap=True,          \n",
    "        random_state=42            \n",
    "    )\n",
    "    model.fit(train_features, train['is_duplicate'])\n",
    "    predictions = model.predict(test_features)\n",
    "    accuracy = accuracy_score(predictions, test['is_duplicate'])\n",
    "    print(f\"accuracy = {accuracy}\")\n",
    "    precision = precision_score(predictions, test['is_duplicate'])\n",
    "    print(f\"precision = {precision}\")\n",
    "    recall = recall_score(predictions, test['is_duplicate'])\n",
    "    print(f\"recall = {recall}\")\n",
    "    f1_met = f1_score(predictions, test['is_duplicate'])\n",
    "    print(f\"f1_score = {f1_met}\")"
   ],
   "metadata": {
    "collapsed": false,
    "ExecuteTime": {
     "end_time": "2024-06-06T20:07:29.930304Z",
     "start_time": "2024-06-06T20:07:29.877871Z"
    }
   },
   "id": "2e6da99cbffce763",
   "execution_count": 9
  },
  {
   "cell_type": "code",
   "outputs": [],
   "source": [
    "def log_reg(train_features, test_features, iter):\n",
    "    model = LogisticRegression(max_iter=iter)\n",
    "    model.fit(train_features, train['is_duplicate'])\n",
    "    predictions = model.predict(test_features)\n",
    "    accuracy = accuracy_score(predictions, test['is_duplicate'])\n",
    "    print(f\"accuracy = {accuracy}\")\n",
    "    precision = precision_score(predictions, test['is_duplicate'])\n",
    "    print(f\"precision = {precision}\")\n",
    "    recall = recall_score(predictions, test['is_duplicate'])\n",
    "    print(f\"recall = {recall}\")\n",
    "    f1_met = f1_score(predictions, test['is_duplicate'])\n",
    "    print(f\"f1_score = {f1_met}\")"
   ],
   "metadata": {
    "collapsed": false,
    "ExecuteTime": {
     "end_time": "2024-06-06T21:08:33.659478Z",
     "start_time": "2024-06-06T21:08:33.650180Z"
    }
   },
   "id": "564327d2109ed275",
   "execution_count": 20
  },
  {
   "cell_type": "code",
   "outputs": [],
   "source": [
    "train_features, test_features = bow(train, test)"
   ],
   "metadata": {
    "collapsed": false,
    "ExecuteTime": {
     "end_time": "2024-06-06T21:08:43.434683Z",
     "start_time": "2024-06-06T21:08:33.654043Z"
    }
   },
   "id": "ebcdd8e25369bb77",
   "execution_count": 21
  },
  {
   "cell_type": "code",
   "outputs": [
    {
     "name": "stdout",
     "output_type": "stream",
     "text": [
      "accuracy = 0.7509955724850973\n",
      "precision = 0.5884925975773889\n",
      "recall = 0.6887453729227376\n",
      "f1_score = 0.6346844721849259\n"
     ]
    }
   ],
   "source": [
    "log_reg(train_features, test_features, 5000)"
   ],
   "metadata": {
    "collapsed": false,
    "ExecuteTime": {
     "end_time": "2024-06-06T08:08:02.620163Z",
     "start_time": "2024-06-06T08:07:22.925960Z"
    }
   },
   "id": "6233690292917ebc",
   "execution_count": 19
  },
  {
   "cell_type": "code",
   "outputs": [
    {
     "name": "stdout",
     "output_type": "stream",
     "text": [
      "accuracy = 0.7746543322862302\n",
      "precision = 0.7251009421265141\n",
      "recall = 0.6819404449226291\n",
      "f1_score = 0.7028587270266303\n"
     ]
    }
   ],
   "source": [
    "log_reg(train_features, test_features, 5000)"
   ],
   "metadata": {
    "collapsed": false,
    "ExecuteTime": {
     "end_time": "2024-06-06T21:09:04.876864Z",
     "start_time": "2024-06-06T21:08:43.430971Z"
    }
   },
   "id": "d557c9c530978d4",
   "execution_count": 22
  },
  {
   "cell_type": "code",
   "outputs": [
    {
     "name": "stdout",
     "output_type": "stream",
     "text": [
      "accuracy = 0.7509955724850973\n",
      "precision = 0.5884925975773889\n",
      "recall = 0.6887453729227376\n",
      "f1_score = 0.6346844721849259\n"
     ]
    }
   ],
   "source": [
    "log_reg(train_features, test_features, 10000)"
   ],
   "metadata": {
    "collapsed": false,
    "ExecuteTime": {
     "end_time": "2024-06-06T08:08:46.856740Z",
     "start_time": "2024-06-06T08:08:02.608926Z"
    }
   },
   "id": "93e59d7797df86da",
   "execution_count": 20
  },
  {
   "cell_type": "code",
   "outputs": [
    {
     "name": "stdout",
     "output_type": "stream",
     "text": [
      "accuracy = 0.7746543322862302\n",
      "precision = 0.7251009421265141\n",
      "recall = 0.6819404449226291\n",
      "f1_score = 0.7028587270266303\n"
     ]
    }
   ],
   "source": [
    "log_reg(train_features, test_features, 10000)"
   ],
   "metadata": {
    "collapsed": false,
    "ExecuteTime": {
     "end_time": "2024-06-06T21:11:12.280690Z",
     "start_time": "2024-06-06T21:10:41.953965Z"
    }
   },
   "id": "91e0aa8f2f5ad59a",
   "execution_count": 25
  },
  {
   "cell_type": "code",
   "outputs": [
    {
     "name": "stdout",
     "output_type": "stream",
     "text": [
      "accuracy = 0.7509955724850973\n",
      "precision = 0.5884925975773889\n",
      "recall = 0.6887453729227376\n",
      "f1_score = 0.6346844721849259\n"
     ]
    }
   ],
   "source": [
    "log_reg(train_features, test_features, 20000)"
   ],
   "metadata": {
    "collapsed": false,
    "ExecuteTime": {
     "end_time": "2024-06-06T08:09:27.448564Z",
     "start_time": "2024-06-06T08:08:46.855800Z"
    }
   },
   "id": "8bacb7afd5dae230",
   "execution_count": 21
  },
  {
   "cell_type": "code",
   "outputs": [
    {
     "name": "stdout",
     "output_type": "stream",
     "text": [
      "0:\tlearn: 0.6801542\ttotal: 304ms\tremaining: 2m 31s\n",
      "100:\tlearn: 0.5675354\ttotal: 20.8s\tremaining: 1m 22s\n",
      "200:\tlearn: 0.5394863\ttotal: 40.5s\tremaining: 1m\n",
      "300:\tlearn: 0.5219411\ttotal: 60s\tremaining: 39.6s\n",
      "400:\tlearn: 0.5090246\ttotal: 1m 20s\tremaining: 19.9s\n",
      "499:\tlearn: 0.4985828\ttotal: 1m 42s\tremaining: 0us\n",
      "accuracy = 0.7531227584159885\n",
      "precision = 0.48596904441453564\n",
      "recall = 0.7550710999581765\n",
      "f1_score = 0.5913445791025221\n"
     ]
    }
   ],
   "source": [
    "cboost(train_features, test_features, 500)"
   ],
   "metadata": {
    "collapsed": false,
    "ExecuteTime": {
     "end_time": "2024-06-06T08:11:28.019722Z",
     "start_time": "2024-06-06T08:09:27.493415Z"
    }
   },
   "id": "5cdd712087d98569",
   "execution_count": 22
  },
  {
   "cell_type": "code",
   "outputs": [
    {
     "name": "stdout",
     "output_type": "stream",
     "text": [
      "0:\tlearn: 0.6801542\ttotal: 352ms\tremaining: 11m 43s\n",
      "100:\tlearn: 0.5675354\ttotal: 28.8s\tremaining: 9m 2s\n",
      "200:\tlearn: 0.5394863\ttotal: 54.4s\tremaining: 8m 6s\n",
      "300:\tlearn: 0.5219411\ttotal: 1m 23s\tremaining: 7m 53s\n",
      "400:\tlearn: 0.5090246\ttotal: 2m 7s\tremaining: 8m 26s\n",
      "500:\tlearn: 0.4984297\ttotal: 2m 30s\tremaining: 7m 30s\n",
      "600:\tlearn: 0.4893325\ttotal: 2m 51s\tremaining: 6m 38s\n",
      "700:\tlearn: 0.4818543\ttotal: 3m 35s\tremaining: 6m 39s\n",
      "800:\tlearn: 0.4752693\ttotal: 4m 5s\tremaining: 6m 6s\n",
      "900:\tlearn: 0.4694255\ttotal: 4m 32s\tremaining: 5m 32s\n",
      "1000:\tlearn: 0.4640238\ttotal: 4m 57s\tremaining: 4m 56s\n",
      "1100:\tlearn: 0.4590826\ttotal: 5m 20s\tremaining: 4m 21s\n",
      "1200:\tlearn: 0.4544554\ttotal: 5m 44s\tremaining: 3m 49s\n",
      "1300:\tlearn: 0.4501390\ttotal: 6m 10s\tremaining: 3m 19s\n",
      "1400:\tlearn: 0.4460380\ttotal: 6m 36s\tremaining: 2m 49s\n",
      "1500:\tlearn: 0.4421004\ttotal: 7m\tremaining: 2m 19s\n",
      "1600:\tlearn: 0.4387107\ttotal: 7m 23s\tremaining: 1m 50s\n",
      "1700:\tlearn: 0.4353398\ttotal: 7m 47s\tremaining: 1m 22s\n",
      "1800:\tlearn: 0.4321316\ttotal: 8m 11s\tremaining: 54.3s\n",
      "1900:\tlearn: 0.4290389\ttotal: 8m 36s\tremaining: 26.9s\n",
      "1999:\tlearn: 0.4261779\ttotal: 9m 1s\tremaining: 0us\n",
      "accuracy = 0.7894951643622152\n",
      "precision = 0.6078061911170929\n",
      "recall = 0.7710102863972\n",
      "f1_score = 0.6797493838077856\n"
     ]
    }
   ],
   "source": [
    "cboost(train_features, test_features, 2000)"
   ],
   "metadata": {
    "collapsed": false,
    "ExecuteTime": {
     "end_time": "2024-06-06T08:20:58.907064Z",
     "start_time": "2024-06-06T08:11:28.016859Z"
    }
   },
   "id": "d19f2178fc232fba",
   "execution_count": 23
  },
  {
   "cell_type": "code",
   "outputs": [
    {
     "name": "stdout",
     "output_type": "stream",
     "text": [
      "0:\tlearn: 0.6801542\ttotal: 305ms\tremaining: 25m 22s\n",
      "100:\tlearn: 0.5675354\ttotal: 28s\tremaining: 22m 36s\n",
      "200:\tlearn: 0.5394863\ttotal: 1m 9s\tremaining: 27m 40s\n",
      "300:\tlearn: 0.5219411\ttotal: 1m 34s\tremaining: 24m 36s\n",
      "400:\tlearn: 0.5090246\ttotal: 1m 59s\tremaining: 22m 46s\n",
      "500:\tlearn: 0.4984297\ttotal: 2m 23s\tremaining: 21m 30s\n",
      "600:\tlearn: 0.4893325\ttotal: 2m 48s\tremaining: 20m 32s\n",
      "700:\tlearn: 0.4818543\ttotal: 3m 11s\tremaining: 19m 36s\n",
      "800:\tlearn: 0.4752693\ttotal: 3m 35s\tremaining: 18m 48s\n",
      "900:\tlearn: 0.4694255\ttotal: 3m 58s\tremaining: 18m 5s\n",
      "1000:\tlearn: 0.4640238\ttotal: 4m 21s\tremaining: 17m 25s\n",
      "1100:\tlearn: 0.4590826\ttotal: 4m 44s\tremaining: 16m 48s\n",
      "1200:\tlearn: 0.4544554\ttotal: 5m 9s\tremaining: 16m 17s\n",
      "1300:\tlearn: 0.4501390\ttotal: 5m 34s\tremaining: 15m 50s\n",
      "1400:\tlearn: 0.4460380\ttotal: 5m 58s\tremaining: 15m 20s\n",
      "1500:\tlearn: 0.4421004\ttotal: 6m 22s\tremaining: 14m 51s\n",
      "1600:\tlearn: 0.4387107\ttotal: 6m 46s\tremaining: 14m 22s\n",
      "1700:\tlearn: 0.4353398\ttotal: 7m 9s\tremaining: 13m 52s\n",
      "1800:\tlearn: 0.4321316\ttotal: 7m 32s\tremaining: 13m 23s\n",
      "1900:\tlearn: 0.4290389\ttotal: 7m 56s\tremaining: 12m 56s\n",
      "2000:\tlearn: 0.4261437\ttotal: 8m 19s\tremaining: 12m 28s\n",
      "2100:\tlearn: 0.4231102\ttotal: 8m 42s\tremaining: 12m 1s\n",
      "2200:\tlearn: 0.4203649\ttotal: 9m 5s\tremaining: 11m 33s\n",
      "2300:\tlearn: 0.4177720\ttotal: 9m 29s\tremaining: 11m 7s\n",
      "2400:\tlearn: 0.4152276\ttotal: 9m 53s\tremaining: 10m 42s\n",
      "2500:\tlearn: 0.4129867\ttotal: 10m 16s\tremaining: 10m 15s\n",
      "2600:\tlearn: 0.4105800\ttotal: 10m 39s\tremaining: 9m 50s\n",
      "2700:\tlearn: 0.4082561\ttotal: 11m 1s\tremaining: 9m 23s\n",
      "2800:\tlearn: 0.4060465\ttotal: 11m 24s\tremaining: 8m 57s\n",
      "2900:\tlearn: 0.4038593\ttotal: 11m 48s\tremaining: 8m 32s\n",
      "3000:\tlearn: 0.4018178\ttotal: 12m 12s\tremaining: 8m 8s\n",
      "3100:\tlearn: 0.3997592\ttotal: 12m 37s\tremaining: 7m 43s\n",
      "3200:\tlearn: 0.3976921\ttotal: 13m\tremaining: 7m 18s\n",
      "3300:\tlearn: 0.3957778\ttotal: 13m 24s\tremaining: 6m 53s\n",
      "3400:\tlearn: 0.3937834\ttotal: 13m 47s\tremaining: 6m 29s\n",
      "3500:\tlearn: 0.3919665\ttotal: 14m 11s\tremaining: 6m 4s\n",
      "3600:\tlearn: 0.3901784\ttotal: 14m 34s\tremaining: 5m 39s\n",
      "3700:\tlearn: 0.3884761\ttotal: 15m 4s\tremaining: 5m 17s\n",
      "3800:\tlearn: 0.3867221\ttotal: 15m 33s\tremaining: 4m 54s\n",
      "3900:\tlearn: 0.3850789\ttotal: 15m 58s\tremaining: 4m 30s\n",
      "4000:\tlearn: 0.3833822\ttotal: 16m 23s\tremaining: 4m 5s\n",
      "4100:\tlearn: 0.3817932\ttotal: 16m 46s\tremaining: 3m 40s\n",
      "4200:\tlearn: 0.3802006\ttotal: 17m 9s\tremaining: 3m 15s\n",
      "4300:\tlearn: 0.3786380\ttotal: 17m 32s\tremaining: 2m 51s\n",
      "4400:\tlearn: 0.3771109\ttotal: 17m 56s\tremaining: 2m 26s\n",
      "4500:\tlearn: 0.3755899\ttotal: 18m 20s\tremaining: 2m 2s\n",
      "4600:\tlearn: 0.3741101\ttotal: 18m 45s\tremaining: 1m 37s\n",
      "4700:\tlearn: 0.3727107\ttotal: 19m 9s\tremaining: 1m 13s\n",
      "4800:\tlearn: 0.3712883\ttotal: 19m 32s\tremaining: 48.6s\n",
      "4900:\tlearn: 0.3699345\ttotal: 19m 56s\tremaining: 24.2s\n",
      "4999:\tlearn: 0.3686353\ttotal: 20m 20s\tremaining: 0us\n",
      "accuracy = 0.8105444111899874\n",
      "precision = 0.6691117092866756\n",
      "recall = 0.7838082850498601\n",
      "f1_score = 0.7219328020910856\n"
     ]
    }
   ],
   "source": [
    "cboost(train_features, test_features, 5000)"
   ],
   "metadata": {
    "collapsed": false,
    "ExecuteTime": {
     "end_time": "2024-06-06T08:41:48.171374Z",
     "start_time": "2024-06-06T08:20:58.974211Z"
    }
   },
   "id": "887fd1f698796edf",
   "execution_count": 24
  },
  {
   "cell_type": "code",
   "outputs": [
    {
     "name": "stderr",
     "output_type": "stream",
     "text": [
      "/Users/timurabdulkadirov/anaconda3/lib/python3.10/site-packages/sklearn/ensemble/_forest.py:424: FutureWarning: `max_features='auto'` has been deprecated in 1.1 and will be removed in 1.3. To keep the past behaviour, explicitly set `max_features='sqrt'` or remove this parameter as it is also the default value for RandomForestClassifiers and ExtraTreesClassifiers.\n",
      "  warn(\n"
     ]
    },
    {
     "name": "stdout",
     "output_type": "stream",
     "text": [
      "accuracy = 0.8176061737861436\n",
      "precision = 0.7266487213997308\n",
      "recall = 0.765272856130404\n",
      "f1_score = 0.7454608215395236\n"
     ]
    }
   ],
   "source": [
    "ranfor(train_features, test_features, 25)"
   ],
   "metadata": {
    "collapsed": false,
    "ExecuteTime": {
     "end_time": "2024-06-06T09:07:46.196902Z",
     "start_time": "2024-06-06T08:41:48.148311Z"
    }
   },
   "id": "ea60d4ba6f0f27d8",
   "execution_count": 25
  },
  {
   "cell_type": "code",
   "outputs": [
    {
     "name": "stderr",
     "output_type": "stream",
     "text": [
      "/Users/timurabdulkadirov/anaconda3/lib/python3.10/site-packages/sklearn/ensemble/_forest.py:424: FutureWarning: `max_features='auto'` has been deprecated in 1.1 and will be removed in 1.3. To keep the past behaviour, explicitly set `max_features='sqrt'` or remove this parameter as it is also the default value for RandomForestClassifiers and ExtraTreesClassifiers.\n",
      "  warn(\n"
     ]
    },
    {
     "name": "stdout",
     "output_type": "stream",
     "text": [
      "accuracy = 0.818583195231146\n",
      "precision = 0.726278600269179\n",
      "recall = 0.7676304278246026\n",
      "f1_score = 0.7463821988623595\n"
     ]
    }
   ],
   "source": [
    "ranfor(train_features, test_features, 25)"
   ],
   "metadata": {
    "collapsed": false,
    "ExecuteTime": {
     "end_time": "2024-06-06T20:24:14.397726Z",
     "start_time": "2024-06-06T20:07:39.860247Z"
    }
   },
   "id": "63c1d0fce9371c2f",
   "execution_count": 11
  },
  {
   "cell_type": "code",
   "outputs": [
    {
     "name": "stderr",
     "output_type": "stream",
     "text": [
      "/Users/timurabdulkadirov/anaconda3/lib/python3.10/site-packages/sklearn/ensemble/_forest.py:424: FutureWarning: `max_features='auto'` has been deprecated in 1.1 and will be removed in 1.3. To keep the past behaviour, explicitly set `max_features='sqrt'` or remove this parameter as it is also the default value for RandomForestClassifiers and ExtraTreesClassifiers.\n",
      "  warn(\n"
     ]
    },
    {
     "name": "stdout",
     "output_type": "stream",
     "text": [
      "accuracy = 0.8239506294986272\n",
      "precision = 0.7203230148048452\n",
      "recall = 0.783286378105448\n",
      "f1_score = 0.7504864068990902\n"
     ]
    }
   ],
   "source": [
    "ranfor(train_features, test_features, 50)"
   ],
   "metadata": {
    "collapsed": false,
    "ExecuteTime": {
     "end_time": "2024-06-06T21:02:17.523486Z",
     "start_time": "2024-06-06T20:29:10.151050Z"
    }
   },
   "id": "ca01432b69472b9f",
   "execution_count": 12
  },
  {
   "cell_type": "code",
   "outputs": [
    {
     "name": "stderr",
     "output_type": "stream",
     "text": [
      "/Users/timurabdulkadirov/anaconda3/lib/python3.10/site-packages/sklearn/ensemble/_forest.py:424: FutureWarning: `max_features='auto'` has been deprecated in 1.1 and will be removed in 1.3. To keep the past behaviour, explicitly set `max_features='sqrt'` or remove this parameter as it is also the default value for RandomForestClassifiers and ExtraTreesClassifiers.\n",
      "  warn(\n"
     ]
    },
    {
     "name": "stdout",
     "output_type": "stream",
     "text": [
      "accuracy = 0.8274258576764204\n",
      "precision = 0.7268842530282638\n",
      "recall = 0.7872813411078717\n",
      "f1_score = 0.7558782365290413\n"
     ]
    }
   ],
   "source": [
    "ranfor(train_features, test_features, 200)"
   ],
   "metadata": {
    "collapsed": false,
    "ExecuteTime": {
     "end_time": "2024-06-06T12:17:27.406452Z",
     "start_time": "2024-06-06T09:50:46.411483Z"
    }
   },
   "id": "4496d86de78a4bb7",
   "execution_count": 27
  },
  {
   "cell_type": "code",
   "outputs": [
    {
     "name": "stdout",
     "output_type": "stream",
     "text": [
      "0:\tlearn: 0.6801542\ttotal: 289ms\tremaining: 48m 8s\n",
      "100:\tlearn: 0.5675354\ttotal: 20.3s\tremaining: 33m 11s\n",
      "200:\tlearn: 0.5394863\ttotal: 39.3s\tremaining: 31m 54s\n",
      "300:\tlearn: 0.5219411\ttotal: 57.8s\tremaining: 31m 1s\n",
      "400:\tlearn: 0.5090246\ttotal: 1m 16s\tremaining: 30m 21s\n",
      "500:\tlearn: 0.4984297\ttotal: 1m 34s\tremaining: 29m 48s\n",
      "600:\tlearn: 0.4893325\ttotal: 1m 52s\tremaining: 29m 22s\n",
      "700:\tlearn: 0.4818543\ttotal: 2m 10s\tremaining: 28m 55s\n",
      "800:\tlearn: 0.4752693\ttotal: 2m 29s\tremaining: 28m 33s\n",
      "900:\tlearn: 0.4694255\ttotal: 2m 47s\tremaining: 28m 8s\n",
      "1000:\tlearn: 0.4640238\ttotal: 3m 5s\tremaining: 27m 44s\n",
      "1100:\tlearn: 0.4590826\ttotal: 3m 23s\tremaining: 27m 22s\n",
      "1200:\tlearn: 0.4544554\ttotal: 3m 40s\tremaining: 26m 58s\n",
      "1300:\tlearn: 0.4501390\ttotal: 3m 58s\tremaining: 26m 37s\n",
      "1400:\tlearn: 0.4460380\ttotal: 4m 16s\tremaining: 26m 16s\n",
      "1500:\tlearn: 0.4421004\ttotal: 4m 34s\tremaining: 25m 56s\n",
      "1600:\tlearn: 0.4387107\ttotal: 4m 52s\tremaining: 25m 35s\n",
      "1700:\tlearn: 0.4353398\ttotal: 5m 10s\tremaining: 25m 16s\n",
      "1800:\tlearn: 0.4321316\ttotal: 5m 28s\tremaining: 24m 55s\n",
      "1900:\tlearn: 0.4290389\ttotal: 5m 46s\tremaining: 24m 35s\n",
      "2000:\tlearn: 0.4261437\ttotal: 6m 6s\tremaining: 24m 24s\n",
      "2100:\tlearn: 0.4231102\ttotal: 6m 27s\tremaining: 24m 15s\n",
      "2200:\tlearn: 0.4203649\ttotal: 6m 48s\tremaining: 24m 5s\n",
      "2300:\tlearn: 0.4177720\ttotal: 7m 10s\tremaining: 24m\n",
      "2400:\tlearn: 0.4152276\ttotal: 7m 29s\tremaining: 23m 41s\n",
      "2500:\tlearn: 0.4129867\ttotal: 7m 46s\tremaining: 23m 20s\n",
      "2600:\tlearn: 0.4105800\ttotal: 8m 4s\tremaining: 22m 58s\n",
      "2700:\tlearn: 0.4082561\ttotal: 8m 22s\tremaining: 22m 37s\n",
      "2800:\tlearn: 0.4060465\ttotal: 8m 40s\tremaining: 22m 16s\n",
      "2900:\tlearn: 0.4038593\ttotal: 8m 58s\tremaining: 21m 56s\n",
      "3000:\tlearn: 0.4018178\ttotal: 9m 15s\tremaining: 21m 36s\n",
      "3100:\tlearn: 0.3997592\ttotal: 9m 33s\tremaining: 21m 16s\n",
      "3200:\tlearn: 0.3976921\ttotal: 9m 51s\tremaining: 20m 56s\n",
      "3300:\tlearn: 0.3957778\ttotal: 10m 9s\tremaining: 20m 36s\n",
      "3400:\tlearn: 0.3937834\ttotal: 10m 27s\tremaining: 20m 17s\n",
      "3500:\tlearn: 0.3919665\ttotal: 10m 45s\tremaining: 19m 57s\n",
      "3600:\tlearn: 0.3901784\ttotal: 11m 2s\tremaining: 19m 37s\n",
      "3700:\tlearn: 0.3884761\ttotal: 11m 20s\tremaining: 19m 18s\n",
      "3800:\tlearn: 0.3867221\ttotal: 11m 38s\tremaining: 18m 58s\n",
      "3900:\tlearn: 0.3850789\ttotal: 11m 56s\tremaining: 18m 39s\n",
      "4000:\tlearn: 0.3833822\ttotal: 12m 14s\tremaining: 18m 20s\n",
      "4100:\tlearn: 0.3817932\ttotal: 12m 31s\tremaining: 18m 1s\n",
      "4200:\tlearn: 0.3802006\ttotal: 12m 49s\tremaining: 17m 42s\n",
      "4300:\tlearn: 0.3786380\ttotal: 13m 7s\tremaining: 17m 23s\n",
      "4400:\tlearn: 0.3771109\ttotal: 13m 25s\tremaining: 17m 5s\n",
      "4500:\tlearn: 0.3755899\ttotal: 13m 44s\tremaining: 16m 47s\n",
      "4600:\tlearn: 0.3741101\ttotal: 14m 3s\tremaining: 16m 29s\n",
      "4700:\tlearn: 0.3727107\ttotal: 14m 20s\tremaining: 16m 10s\n",
      "4800:\tlearn: 0.3712883\ttotal: 14m 39s\tremaining: 15m 51s\n",
      "4900:\tlearn: 0.3699345\ttotal: 14m 57s\tremaining: 15m 33s\n",
      "5000:\tlearn: 0.3686309\ttotal: 15m 15s\tremaining: 15m 15s\n",
      "5100:\tlearn: 0.3673309\ttotal: 15m 34s\tremaining: 14m 57s\n",
      "5200:\tlearn: 0.3660721\ttotal: 15m 52s\tremaining: 14m 39s\n",
      "5300:\tlearn: 0.3648296\ttotal: 16m 10s\tremaining: 14m 20s\n",
      "5400:\tlearn: 0.3636387\ttotal: 16m 28s\tremaining: 14m 1s\n",
      "5500:\tlearn: 0.3623848\ttotal: 16m 47s\tremaining: 13m 44s\n",
      "5600:\tlearn: 0.3611710\ttotal: 17m 6s\tremaining: 13m 25s\n",
      "5700:\tlearn: 0.3599756\ttotal: 17m 24s\tremaining: 13m 7s\n",
      "5800:\tlearn: 0.3588497\ttotal: 17m 42s\tremaining: 12m 49s\n",
      "5900:\tlearn: 0.3576593\ttotal: 18m\tremaining: 12m 30s\n",
      "6000:\tlearn: 0.3564638\ttotal: 18m 19s\tremaining: 12m 12s\n",
      "6100:\tlearn: 0.3553480\ttotal: 18m 38s\tremaining: 11m 54s\n",
      "6200:\tlearn: 0.3542205\ttotal: 18m 56s\tremaining: 11m 36s\n",
      "6300:\tlearn: 0.3530979\ttotal: 19m 15s\tremaining: 11m 18s\n",
      "6400:\tlearn: 0.3520008\ttotal: 19m 34s\tremaining: 11m\n",
      "6500:\tlearn: 0.3508999\ttotal: 19m 52s\tremaining: 10m 42s\n",
      "6600:\tlearn: 0.3498694\ttotal: 20m 10s\tremaining: 10m 23s\n",
      "6700:\tlearn: 0.3488567\ttotal: 20m 29s\tremaining: 10m 5s\n",
      "6800:\tlearn: 0.3479015\ttotal: 20m 47s\tremaining: 9m 47s\n",
      "6900:\tlearn: 0.3468639\ttotal: 21m 6s\tremaining: 9m 28s\n",
      "7000:\tlearn: 0.3458355\ttotal: 21m 25s\tremaining: 9m 10s\n",
      "7100:\tlearn: 0.3448152\ttotal: 21m 43s\tremaining: 8m 52s\n",
      "7200:\tlearn: 0.3438007\ttotal: 22m 2s\tremaining: 8m 34s\n",
      "7300:\tlearn: 0.3427649\ttotal: 22m 21s\tremaining: 8m 15s\n",
      "7400:\tlearn: 0.3417848\ttotal: 22m 41s\tremaining: 7m 58s\n",
      "7500:\tlearn: 0.3407739\ttotal: 23m\tremaining: 7m 39s\n",
      "7600:\tlearn: 0.3399313\ttotal: 23m 19s\tremaining: 7m 21s\n",
      "7700:\tlearn: 0.3389466\ttotal: 23m 37s\tremaining: 7m 3s\n",
      "7800:\tlearn: 0.3379944\ttotal: 23m 56s\tremaining: 6m 44s\n",
      "7900:\tlearn: 0.3371196\ttotal: 24m 15s\tremaining: 6m 26s\n",
      "8000:\tlearn: 0.3361851\ttotal: 24m 34s\tremaining: 6m 8s\n",
      "8100:\tlearn: 0.3352866\ttotal: 24m 53s\tremaining: 5m 50s\n",
      "8200:\tlearn: 0.3344271\ttotal: 25m 12s\tremaining: 5m 31s\n",
      "8300:\tlearn: 0.3336204\ttotal: 25m 31s\tremaining: 5m 13s\n",
      "8400:\tlearn: 0.3327112\ttotal: 25m 50s\tremaining: 4m 55s\n",
      "8500:\tlearn: 0.3318585\ttotal: 26m 9s\tremaining: 4m 36s\n",
      "8600:\tlearn: 0.3309444\ttotal: 26m 28s\tremaining: 4m 18s\n",
      "8700:\tlearn: 0.3301091\ttotal: 26m 47s\tremaining: 4m\n",
      "8800:\tlearn: 0.3292656\ttotal: 27m 7s\tremaining: 3m 41s\n",
      "8900:\tlearn: 0.3284528\ttotal: 27m 26s\tremaining: 3m 23s\n",
      "9000:\tlearn: 0.3275900\ttotal: 27m 45s\tremaining: 3m 4s\n",
      "9100:\tlearn: 0.3267458\ttotal: 28m 4s\tremaining: 2m 46s\n",
      "9200:\tlearn: 0.3259025\ttotal: 28m 23s\tremaining: 2m 27s\n",
      "9300:\tlearn: 0.3251321\ttotal: 28m 42s\tremaining: 2m 9s\n",
      "9400:\tlearn: 0.3243935\ttotal: 29m 2s\tremaining: 1m 51s\n",
      "9500:\tlearn: 0.3235969\ttotal: 29m 21s\tremaining: 1m 32s\n",
      "9600:\tlearn: 0.3227704\ttotal: 29m 40s\tremaining: 1m 13s\n",
      "9700:\tlearn: 0.3219968\ttotal: 29m 59s\tremaining: 55.5s\n",
      "9800:\tlearn: 0.3212931\ttotal: 30m 19s\tremaining: 36.9s\n",
      "9900:\tlearn: 0.3205822\ttotal: 30m 38s\tremaining: 18.4s\n",
      "9999:\tlearn: 0.3198590\ttotal: 30m 56s\tremaining: 0us\n",
      "accuracy = 0.821786341487546\n",
      "precision = 0.7010094212651413\n",
      "recall = 0.7904241596479247\n",
      "f1_score = 0.7430364848960377\n"
     ]
    }
   ],
   "source": [
    "cboost(train_features, test_features, 10000)"
   ],
   "metadata": {
    "collapsed": false,
    "ExecuteTime": {
     "end_time": "2024-06-06T16:06:58.577039Z",
     "start_time": "2024-06-06T15:35:36.989630Z"
    }
   },
   "id": "6ff666e107593eaf",
   "execution_count": 12
  }
 ],
 "metadata": {
  "kernelspec": {
   "display_name": "Python 3",
   "language": "python",
   "name": "python3"
  },
  "language_info": {
   "codemirror_mode": {
    "name": "ipython",
    "version": 2
   },
   "file_extension": ".py",
   "mimetype": "text/x-python",
   "name": "python",
   "nbconvert_exporter": "python",
   "pygments_lexer": "ipython2",
   "version": "2.7.6"
  }
 },
 "nbformat": 4,
 "nbformat_minor": 5
}
