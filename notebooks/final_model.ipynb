{
 "cells": [
  {
   "cell_type": "code",
   "execution_count": 18,
   "id": "initial_id",
   "metadata": {
    "collapsed": true,
    "ExecuteTime": {
     "end_time": "2024-06-07T00:27:26.683770Z",
     "start_time": "2024-06-07T00:27:26.670485Z"
    }
   },
   "outputs": [],
   "source": [
    "import pandas as pd\n",
    "import numpy as np\n",
    "from sklearn.metrics import accuracy_score, f1_score, precision_score, recall_score\n",
    "from sklearn.model_selection import train_test_split\n",
    "from sklearn.feature_extraction.text import CountVectorizer\n",
    "from sklearn.ensemble import RandomForestClassifier\n",
    "import nltk\n",
    "from nltk.corpus import stopwords\n",
    "import re\n",
    "from nltk.stem.porter import *\n",
    "import pickle\n",
    "import joblib"
   ]
  },
  {
   "cell_type": "code",
   "outputs": [],
   "source": [
    "data = pd.read_csv(\"train.csv\")\n",
    "data = data.drop(columns=[\"qid1\", \"qid2\", \"id\"])\n",
    "data = data.dropna()\n",
    "data.reset_index(drop=True, inplace=True)"
   ],
   "metadata": {
    "collapsed": false,
    "ExecuteTime": {
     "end_time": "2024-06-07T00:27:30.872320Z",
     "start_time": "2024-06-07T00:27:28.818052Z"
    }
   },
   "id": "d3c27b31adb60955",
   "execution_count": 19
  },
  {
   "cell_type": "code",
   "outputs": [
    {
     "name": "stderr",
     "output_type": "stream",
     "text": [
      "[nltk_data] Downloading package stopwords to\n",
      "[nltk_data]     /Users/timurabdulkadirov/nltk_data...\n",
      "[nltk_data]   Package stopwords is already up-to-date!\n"
     ]
    }
   ],
   "source": [
    "nltk.download('stopwords')\n",
    "stop_words = set(stopwords.words('english'))\n",
    "\n",
    "def delete_stop_words(text):\n",
    "    return ' '.join([word.lower() for word in text.split() if word not in stop_words])\n",
    "\n",
    "data['question1'] = data['question1'].apply(delete_stop_words)\n",
    "data['question2'] = data['question2'].apply(delete_stop_words)"
   ],
   "metadata": {
    "collapsed": false,
    "ExecuteTime": {
     "end_time": "2024-06-07T00:27:36.103283Z",
     "start_time": "2024-06-07T00:27:33.467116Z"
    }
   },
   "id": "a35cddb9cd419e8",
   "execution_count": 20
  },
  {
   "cell_type": "code",
   "outputs": [],
   "source": [
    "def preprocess_text(text): \n",
    "    text = re.sub(r\"[^\\w\\s]\", '', text.lower())\n",
    "    return text.split()"
   ],
   "metadata": {
    "collapsed": false,
    "ExecuteTime": {
     "end_time": "2024-06-07T00:27:36.117591Z",
     "start_time": "2024-06-07T00:27:36.108084Z"
    }
   },
   "id": "2b2a6830483a21c0",
   "execution_count": 21
  },
  {
   "cell_type": "code",
   "outputs": [],
   "source": [
    "def train_test_stem(data2):\n",
    "    stemmer = PorterStemmer()\n",
    "\n",
    "    def preprocess_stem(text):\n",
    "        return ' '.join([stemmer.stem(word) for word in preprocess_text(text)])\n",
    "    \n",
    "    data2['question1'] = data2['question1'].apply(preprocess_stem)\n",
    "    data2['question2'] = data2['question2'].apply(preprocess_stem)\n",
    "    print(data2.head())\n",
    "    train, test = train_test_split(data2, test_size=0.2, random_state=0)\n",
    "    return train, test"
   ],
   "metadata": {
    "collapsed": false,
    "ExecuteTime": {
     "end_time": "2024-06-07T00:27:36.911729Z",
     "start_time": "2024-06-07T00:27:36.902784Z"
    }
   },
   "id": "b396718238ab3fb3",
   "execution_count": 22
  },
  {
   "cell_type": "code",
   "outputs": [
    {
     "name": "stdout",
     "output_type": "stream",
     "text": [
      "                                           question1  \\\n",
      "0      what step step guid invest share market india   \n",
      "1               what stori kohinoor kohinoor diamond   \n",
      "2       how i increas speed internet connect use vpn   \n",
      "3                    whi i mental lone how i solv it   \n",
      "4  which one dissolv water quikli sugar salt meth...   \n",
      "\n",
      "                                           question2  is_duplicate  \n",
      "0            what step step guid invest share market             0  \n",
      "1  what would happen indian govern stole kohinoor...             0  \n",
      "2                 how internet speed increas hack dn             0  \n",
      "3               find remaind math2324math divid 2423             0  \n",
      "4                 which fish would surviv salt water             0  \n"
     ]
    }
   ],
   "source": [
    "train, test = train_test_stem(data)"
   ],
   "metadata": {
    "collapsed": false,
    "ExecuteTime": {
     "end_time": "2024-06-07T00:29:10.667999Z",
     "start_time": "2024-06-07T00:27:39.374816Z"
    }
   },
   "id": "2800b20bb20ac4de",
   "execution_count": 23
  },
  {
   "cell_type": "code",
   "outputs": [],
   "source": [
    "def bow (df_train, df_test):\n",
    "    vectorizer = CountVectorizer()\n",
    "    questions = pd.concat([df_train['question1'], df_train['question2']])\n",
    "    vectorizer.fit(questions)\n",
    "    joblib.dump(vectorizer, 'vectorizer.pkl')\n",
    "    q1_train_bow = vectorizer.transform(df_train['question1'])\n",
    "    q2_train_bow = vectorizer.transform(df_train['question2'])\n",
    "    q1_test_bow = vectorizer.transform(df_test['question1'])\n",
    "    q2_test_bow = vectorizer.transform(df_test['question2'])\n",
    "    df_train_features = q1_train_bow + q2_train_bow # Вычитание дает результаты порядком хуже\n",
    "    df_test_features = q1_test_bow + q2_test_bow\n",
    "    return df_train_features, df_test_features"
   ],
   "metadata": {
    "collapsed": false,
    "ExecuteTime": {
     "end_time": "2024-06-07T00:29:10.681740Z",
     "start_time": "2024-06-07T00:29:10.674593Z"
    }
   },
   "id": "eea92c08f8dc7b1d",
   "execution_count": 24
  },
  {
   "cell_type": "code",
   "outputs": [],
   "source": [
    "def ranfor(train_features, test_features, est):\n",
    "    model = RandomForestClassifier(\n",
    "        n_estimators=est,       \n",
    "        criterion='entropy',          \n",
    "        max_depth=None,           \n",
    "        min_samples_split=2,       \n",
    "        min_samples_leaf=1,   \n",
    "        max_features='auto',      \n",
    "        bootstrap=True,          \n",
    "        random_state=42            \n",
    "    )\n",
    "    model.fit(train_features, train['is_duplicate'])\n",
    "    predictions = model.predict(test_features)\n",
    "    accuracy = accuracy_score(predictions, test['is_duplicate'])\n",
    "    print(f\"accuracy = {accuracy}\")\n",
    "    precision = precision_score(predictions, test['is_duplicate'])\n",
    "    print(f\"precision = {precision}\")\n",
    "    recall = recall_score(predictions, test['is_duplicate'])\n",
    "    print(f\"recall = {recall}\")\n",
    "    f1_met = f1_score(predictions, test['is_duplicate'])\n",
    "    print(f\"f1_score = {f1_met}\")\n",
    "    with open('random_forest_model.pkl', 'wb') as file:\n",
    "        pickle.dump(model, file)"
   ],
   "metadata": {
    "collapsed": false,
    "ExecuteTime": {
     "end_time": "2024-06-06T21:24:41.919281Z",
     "start_time": "2024-06-06T21:24:41.918057Z"
    }
   },
   "id": "468d0f26b53eb305",
   "execution_count": 14
  },
  {
   "cell_type": "code",
   "outputs": [],
   "source": [
    "train_features, test_features = bow(train, test)"
   ],
   "metadata": {
    "collapsed": false,
    "ExecuteTime": {
     "end_time": "2024-06-07T00:29:20.105974Z",
     "start_time": "2024-06-07T00:29:10.678295Z"
    }
   },
   "id": "4bca5e85a5723b94",
   "execution_count": 25
  },
  {
   "cell_type": "code",
   "outputs": [
    {
     "name": "stderr",
     "output_type": "stream",
     "text": [
      "/Users/timurabdulkadirov/anaconda3/lib/python3.10/site-packages/sklearn/ensemble/_forest.py:424: FutureWarning: `max_features='auto'` has been deprecated in 1.1 and will be removed in 1.3. To keep the past behaviour, explicitly set `max_features='sqrt'` or remove this parameter as it is also the default value for RandomForestClassifiers and ExtraTreesClassifiers.\n",
      "  warn(\n"
     ]
    },
    {
     "name": "stdout",
     "output_type": "stream",
     "text": [
      "accuracy = 0.8260036112691385\n",
      "precision = 0.7259421265141319\n",
      "recall = 0.7845739845085276\n",
      "f1_score = 0.7541201349202188\n"
     ]
    }
   ],
   "source": [
    "ranfor(train_features, test_features, 100)"
   ],
   "metadata": {
    "collapsed": false,
    "ExecuteTime": {
     "end_time": "2024-06-06T22:32:29.930509Z",
     "start_time": "2024-06-06T21:24:51.567918Z"
    }
   },
   "id": "e836474349c5934a",
   "execution_count": 16
  }
 ],
 "metadata": {
  "kernelspec": {
   "display_name": "Python 3",
   "language": "python",
   "name": "python3"
  },
  "language_info": {
   "codemirror_mode": {
    "name": "ipython",
    "version": 2
   },
   "file_extension": ".py",
   "mimetype": "text/x-python",
   "name": "python",
   "nbconvert_exporter": "python",
   "pygments_lexer": "ipython2",
   "version": "2.7.6"
  }
 },
 "nbformat": 4,
 "nbformat_minor": 5
}
