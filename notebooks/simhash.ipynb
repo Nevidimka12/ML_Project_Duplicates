{
 "cells": [
  {
   "cell_type": "code",
   "execution_count": 134,
   "id": "initial_id",
   "metadata": {
    "collapsed": true,
    "ExecuteTime": {
     "end_time": "2024-06-05T18:25:36.811810Z",
     "start_time": "2024-06-05T18:25:31.755849Z"
    }
   },
   "outputs": [
    {
     "name": "stdout",
     "output_type": "stream",
     "text": [
      "Requirement already satisfied: simhash in /Users/timurabdulkadirov/anaconda3/lib/python3.10/site-packages (2.1.2)\r\n",
      "Requirement already satisfied: numpy in /Users/timurabdulkadirov/anaconda3/lib/python3.10/site-packages (from simhash) (1.23.5)\r\n"
     ]
    }
   ],
   "source": [
    "!pip install simhash"
   ]
  },
  {
   "cell_type": "code",
   "outputs": [],
   "source": [
    "from simhash import Simhash, SimhashIndex"
   ],
   "metadata": {
    "collapsed": false,
    "ExecuteTime": {
     "end_time": "2024-06-05T18:25:36.831821Z",
     "start_time": "2024-06-05T18:25:36.817890Z"
    }
   },
   "id": "c452ff3457901803",
   "execution_count": 135
  },
  {
   "cell_type": "code",
   "outputs": [],
   "source": [
    "def simhash_similarity(q1, q2):\n",
    "    \n",
    "    hash1 = Simhash(q1)\n",
    "    hash2 = Simhash(q2)\n",
    "    \n",
    "    distance = hash1.distance(hash2)\n",
    "    \n",
    "    hashbits = 64  \n",
    "    \n",
    "    prob = (hashbits - distance) / hashbits\n",
    "    \n",
    "    return prob"
   ],
   "metadata": {
    "collapsed": false,
    "ExecuteTime": {
     "end_time": "2024-06-05T18:25:36.838809Z",
     "start_time": "2024-06-05T18:25:36.826837Z"
    }
   },
   "id": "2d40438312ab9a2b",
   "execution_count": 136
  },
  {
   "cell_type": "code",
   "outputs": [],
   "source": [
    "import pandas as pd\n",
    "import numpy as np"
   ],
   "metadata": {
    "collapsed": false,
    "ExecuteTime": {
     "end_time": "2024-06-05T18:25:36.852134Z",
     "start_time": "2024-06-05T18:25:36.838216Z"
    }
   },
   "id": "e20266909e290d1b",
   "execution_count": 137
  },
  {
   "cell_type": "code",
   "outputs": [
    {
     "data": {
      "text/plain": "   id  qid1  qid2                                          question1  \\\n0   0     1     2  What is the step by step guide to invest in sh...   \n1   1     3     4  What is the story of Kohinoor (Koh-i-Noor) Dia...   \n2   2     5     6  How can I increase the speed of my internet co...   \n3   3     7     8  Why am I mentally very lonely? How can I solve...   \n4   4     9    10  Which one dissolve in water quikly sugar, salt...   \n\n                                           question2  is_duplicate  \n0  What is the step by step guide to invest in sh...             0  \n1  What would happen if the Indian government sto...             0  \n2  How can Internet speed be increased by hacking...             0  \n3  Find the remainder when [math]23^{24}[/math] i...             0  \n4            Which fish would survive in salt water?             0  ",
      "text/html": "<div>\n<style scoped>\n    .dataframe tbody tr th:only-of-type {\n        vertical-align: middle;\n    }\n\n    .dataframe tbody tr th {\n        vertical-align: top;\n    }\n\n    .dataframe thead th {\n        text-align: right;\n    }\n</style>\n<table border=\"1\" class=\"dataframe\">\n  <thead>\n    <tr style=\"text-align: right;\">\n      <th></th>\n      <th>id</th>\n      <th>qid1</th>\n      <th>qid2</th>\n      <th>question1</th>\n      <th>question2</th>\n      <th>is_duplicate</th>\n    </tr>\n  </thead>\n  <tbody>\n    <tr>\n      <th>0</th>\n      <td>0</td>\n      <td>1</td>\n      <td>2</td>\n      <td>What is the step by step guide to invest in sh...</td>\n      <td>What is the step by step guide to invest in sh...</td>\n      <td>0</td>\n    </tr>\n    <tr>\n      <th>1</th>\n      <td>1</td>\n      <td>3</td>\n      <td>4</td>\n      <td>What is the story of Kohinoor (Koh-i-Noor) Dia...</td>\n      <td>What would happen if the Indian government sto...</td>\n      <td>0</td>\n    </tr>\n    <tr>\n      <th>2</th>\n      <td>2</td>\n      <td>5</td>\n      <td>6</td>\n      <td>How can I increase the speed of my internet co...</td>\n      <td>How can Internet speed be increased by hacking...</td>\n      <td>0</td>\n    </tr>\n    <tr>\n      <th>3</th>\n      <td>3</td>\n      <td>7</td>\n      <td>8</td>\n      <td>Why am I mentally very lonely? How can I solve...</td>\n      <td>Find the remainder when [math]23^{24}[/math] i...</td>\n      <td>0</td>\n    </tr>\n    <tr>\n      <th>4</th>\n      <td>4</td>\n      <td>9</td>\n      <td>10</td>\n      <td>Which one dissolve in water quikly sugar, salt...</td>\n      <td>Which fish would survive in salt water?</td>\n      <td>0</td>\n    </tr>\n  </tbody>\n</table>\n</div>"
     },
     "execution_count": 138,
     "metadata": {},
     "output_type": "execute_result"
    }
   ],
   "source": [
    "data = pd.read_csv(\"train.csv\")\n",
    "data.head()"
   ],
   "metadata": {
    "collapsed": false,
    "ExecuteTime": {
     "end_time": "2024-06-05T18:25:37.951386Z",
     "start_time": "2024-06-05T18:25:36.846534Z"
    }
   },
   "id": "e1fb11a94893c4b",
   "execution_count": 138
  },
  {
   "cell_type": "code",
   "outputs": [
    {
     "data": {
      "text/plain": "                                           question1  \\\n0  What is the step by step guide to invest in sh...   \n1  What is the story of Kohinoor (Koh-i-Noor) Dia...   \n2  How can I increase the speed of my internet co...   \n3  Why am I mentally very lonely? How can I solve...   \n4  Which one dissolve in water quikly sugar, salt...   \n\n                                           question2  is_duplicate  \n0  What is the step by step guide to invest in sh...             0  \n1  What would happen if the Indian government sto...             0  \n2  How can Internet speed be increased by hacking...             0  \n3  Find the remainder when [math]23^{24}[/math] i...             0  \n4            Which fish would survive in salt water?             0  ",
      "text/html": "<div>\n<style scoped>\n    .dataframe tbody tr th:only-of-type {\n        vertical-align: middle;\n    }\n\n    .dataframe tbody tr th {\n        vertical-align: top;\n    }\n\n    .dataframe thead th {\n        text-align: right;\n    }\n</style>\n<table border=\"1\" class=\"dataframe\">\n  <thead>\n    <tr style=\"text-align: right;\">\n      <th></th>\n      <th>question1</th>\n      <th>question2</th>\n      <th>is_duplicate</th>\n    </tr>\n  </thead>\n  <tbody>\n    <tr>\n      <th>0</th>\n      <td>What is the step by step guide to invest in sh...</td>\n      <td>What is the step by step guide to invest in sh...</td>\n      <td>0</td>\n    </tr>\n    <tr>\n      <th>1</th>\n      <td>What is the story of Kohinoor (Koh-i-Noor) Dia...</td>\n      <td>What would happen if the Indian government sto...</td>\n      <td>0</td>\n    </tr>\n    <tr>\n      <th>2</th>\n      <td>How can I increase the speed of my internet co...</td>\n      <td>How can Internet speed be increased by hacking...</td>\n      <td>0</td>\n    </tr>\n    <tr>\n      <th>3</th>\n      <td>Why am I mentally very lonely? How can I solve...</td>\n      <td>Find the remainder when [math]23^{24}[/math] i...</td>\n      <td>0</td>\n    </tr>\n    <tr>\n      <th>4</th>\n      <td>Which one dissolve in water quikly sugar, salt...</td>\n      <td>Which fish would survive in salt water?</td>\n      <td>0</td>\n    </tr>\n  </tbody>\n</table>\n</div>"
     },
     "execution_count": 139,
     "metadata": {},
     "output_type": "execute_result"
    }
   ],
   "source": [
    "data = data.drop(columns=[\"qid1\", \"qid2\", \"id\"])\n",
    "data.head()"
   ],
   "metadata": {
    "collapsed": false,
    "ExecuteTime": {
     "end_time": "2024-06-05T18:25:38.011588Z",
     "start_time": "2024-06-05T18:25:37.945020Z"
    }
   },
   "id": "4a7050bf07c47a17",
   "execution_count": 139
  },
  {
   "cell_type": "code",
   "outputs": [
    {
     "name": "stdout",
     "output_type": "stream",
     "text": [
      "question1       1\n",
      "question2       2\n",
      "is_duplicate    0\n",
      "dtype: int64\n"
     ]
    }
   ],
   "source": [
    "nan_counts = data.isna().sum()\n",
    "print(nan_counts)"
   ],
   "metadata": {
    "collapsed": false,
    "ExecuteTime": {
     "end_time": "2024-06-05T18:25:38.128198Z",
     "start_time": "2024-06-05T18:25:38.083579Z"
    }
   },
   "id": "dd812f7b1927f827",
   "execution_count": 140
  },
  {
   "cell_type": "code",
   "outputs": [],
   "source": [
    "data = data.dropna()\n",
    "data.reset_index(drop=True, inplace=True)"
   ],
   "metadata": {
    "collapsed": false,
    "ExecuteTime": {
     "end_time": "2024-06-05T18:25:38.229309Z",
     "start_time": "2024-06-05T18:25:38.201626Z"
    }
   },
   "id": "5c86ac86f1959348",
   "execution_count": 141
  },
  {
   "cell_type": "code",
   "outputs": [
    {
     "name": "stdout",
     "output_type": "stream",
     "text": [
      "404287\n"
     ]
    }
   ],
   "source": [
    "print(len(data))"
   ],
   "metadata": {
    "collapsed": false,
    "ExecuteTime": {
     "end_time": "2024-06-05T18:25:38.242022Z",
     "start_time": "2024-06-05T18:25:38.229503Z"
    }
   },
   "id": "7a55c2c2204da82e",
   "execution_count": 142
  },
  {
   "cell_type": "code",
   "outputs": [
    {
     "name": "stdout",
     "output_type": "stream",
     "text": [
      "threshold = 0.6:\n",
      "    accuracy: 0.6035173642030276\n",
      "    precision: 0.4798769230769231\n",
      "    recall: 0.7773125996810207\n",
      "    f1: 0.5934099383608553\n",
      "\n",
      "threshold = 0.7:\n",
      "    accuracy: 0.6449243098842387\n",
      "    precision: 0.5281501340482574\n",
      "    recall: 0.43201754385964913\n",
      "    f1: 0.47527141133896267\n",
      "\n",
      "threshold = 0.8:\n",
      "    accuracy: 0.627238547541308\n",
      "    precision: 0.49712643678160917\n",
      "    recall: 0.12646198830409358\n",
      "    f1: 0.20163170163170163\n",
      "\n"
     ]
    }
   ],
   "source": [
    "threshold = [0.6, 0.7, 0.8]\n",
    "for i in threshold:\n",
    "    cnt_p = 0\n",
    "    cnt_n = 0\n",
    "    cnt1 = 0\n",
    "    cnt2 = 0\n",
    "    for j in range(len(data) // 10):\n",
    "        q1 = data[\"question1\"][j]\n",
    "        q2 = data[\"question2\"][j]\n",
    "        is_dup = data[\"is_duplicate\"][j]\n",
    "        sh = simhash_similarity(q1, q2)\n",
    "        if (sh >= i and is_dup == 1):\n",
    "            cnt_p += 1\n",
    "        elif (sh < i and is_dup == 0):\n",
    "            cnt_n += 1\n",
    "        elif (sh >= i and is_dup == 0): \n",
    "            cnt1 += 1\n",
    "        elif (sh < i and is_dup == 1):\n",
    "            cnt2 += 1\n",
    "            \n",
    "    accuracy = (cnt_p + cnt_n) / (len(data) // 10)\n",
    "    precision = (cnt_p) / (cnt_p + cnt1)\n",
    "    recall = (cnt_p) / (cnt_p + cnt2)\n",
    "    f1 = (2 * precision * recall) / (precision + recall)\n",
    "    print(f\"threshold = {i}:\")\n",
    "    print(f\"    accuracy: {accuracy}\")\n",
    "    print(f\"    precision: {precision}\")\n",
    "    print(f\"    recall: {recall}\")\n",
    "    print(f\"    f1: {f1}\")\n",
    "    print('\\n')\n",
    "    "
   ],
   "metadata": {
    "collapsed": false,
    "ExecuteTime": {
     "end_time": "2024-06-05T18:26:21.840621Z",
     "start_time": "2024-06-05T18:25:38.244329Z"
    }
   },
   "id": "fccb1a5c5bc6c7af",
   "execution_count": 143
  },
  {
   "cell_type": "markdown",
   "source": [
    "# Пробуем алгоритм на почищенных данных"
   ],
   "metadata": {
    "collapsed": false
   },
   "id": "452f2a7011f5295"
  },
  {
   "cell_type": "code",
   "outputs": [],
   "source": [
    "import re"
   ],
   "metadata": {
    "collapsed": false,
    "ExecuteTime": {
     "end_time": "2024-06-05T18:26:21.842207Z",
     "start_time": "2024-06-05T18:26:21.837285Z"
    }
   },
   "id": "a2ae671b5976233f",
   "execution_count": 144
  },
  {
   "cell_type": "code",
   "outputs": [],
   "source": [
    "def preprocess_text(text): \n",
    "    text = re.sub(r\"[^\\w\\s]\", '', text.lower())\n",
    "    return text.split()"
   ],
   "metadata": {
    "collapsed": false,
    "ExecuteTime": {
     "end_time": "2024-06-05T18:26:21.849806Z",
     "start_time": "2024-06-05T18:26:21.842202Z"
    }
   },
   "id": "566b5ce5a1317581",
   "execution_count": 145
  },
  {
   "cell_type": "code",
   "outputs": [
    {
     "name": "stdout",
     "output_type": "stream",
     "text": [
      "Requirement already satisfied: nltk in /Users/timurabdulkadirov/anaconda3/lib/python3.10/site-packages (3.7)\r\n",
      "Requirement already satisfied: tqdm in /Users/timurabdulkadirov/anaconda3/lib/python3.10/site-packages (from nltk) (4.64.1)\r\n",
      "Requirement already satisfied: click in /Users/timurabdulkadirov/anaconda3/lib/python3.10/site-packages (from nltk) (8.0.4)\r\n",
      "Requirement already satisfied: joblib in /Users/timurabdulkadirov/anaconda3/lib/python3.10/site-packages (from nltk) (1.1.1)\r\n",
      "Requirement already satisfied: regex>=2021.8.3 in /Users/timurabdulkadirov/anaconda3/lib/python3.10/site-packages (from nltk) (2022.7.9)\r\n"
     ]
    }
   ],
   "source": [
    "! pip install nltk"
   ],
   "metadata": {
    "collapsed": false,
    "ExecuteTime": {
     "end_time": "2024-06-05T18:26:26.956879Z",
     "start_time": "2024-06-05T18:26:21.847958Z"
    }
   },
   "id": "f1943374c8dd5455",
   "execution_count": 146
  },
  {
   "cell_type": "code",
   "outputs": [],
   "source": [
    "from nltk.stem.porter import *\n",
    "from nltk.corpus import stopwords\n",
    "import nltk"
   ],
   "metadata": {
    "collapsed": false,
    "ExecuteTime": {
     "end_time": "2024-06-05T18:26:26.970621Z",
     "start_time": "2024-06-05T18:26:26.961775Z"
    }
   },
   "id": "6e2effe6ac7c71bd",
   "execution_count": 147
  },
  {
   "cell_type": "code",
   "outputs": [
    {
     "name": "stderr",
     "output_type": "stream",
     "text": [
      "[nltk_data] Downloading package stopwords to\n",
      "[nltk_data]     /Users/timurabdulkadirov/nltk_data...\n",
      "[nltk_data]   Package stopwords is already up-to-date!\n"
     ]
    },
    {
     "data": {
      "text/plain": "                                           question1  \\\n0    what step step guide invest share market india?   \n1          what story kohinoor (koh-i-noor) diamond?   \n2  how i increase speed internet connection using...   \n3             why i mentally lonely? how i solve it?   \n4  which one dissolve water quikly sugar, salt, m...   \n\n                                           question2  is_duplicate  \n0          what step step guide invest share market?             0  \n1  what would happen indian government stole kohi...             0  \n2          how internet speed increased hacking dns?             0  \n3  find remainder [math]23^{24}[/math] divided 24...             0  \n4               which fish would survive salt water?             0  ",
      "text/html": "<div>\n<style scoped>\n    .dataframe tbody tr th:only-of-type {\n        vertical-align: middle;\n    }\n\n    .dataframe tbody tr th {\n        vertical-align: top;\n    }\n\n    .dataframe thead th {\n        text-align: right;\n    }\n</style>\n<table border=\"1\" class=\"dataframe\">\n  <thead>\n    <tr style=\"text-align: right;\">\n      <th></th>\n      <th>question1</th>\n      <th>question2</th>\n      <th>is_duplicate</th>\n    </tr>\n  </thead>\n  <tbody>\n    <tr>\n      <th>0</th>\n      <td>what step step guide invest share market india?</td>\n      <td>what step step guide invest share market?</td>\n      <td>0</td>\n    </tr>\n    <tr>\n      <th>1</th>\n      <td>what story kohinoor (koh-i-noor) diamond?</td>\n      <td>what would happen indian government stole kohi...</td>\n      <td>0</td>\n    </tr>\n    <tr>\n      <th>2</th>\n      <td>how i increase speed internet connection using...</td>\n      <td>how internet speed increased hacking dns?</td>\n      <td>0</td>\n    </tr>\n    <tr>\n      <th>3</th>\n      <td>why i mentally lonely? how i solve it?</td>\n      <td>find remainder [math]23^{24}[/math] divided 24...</td>\n      <td>0</td>\n    </tr>\n    <tr>\n      <th>4</th>\n      <td>which one dissolve water quikly sugar, salt, m...</td>\n      <td>which fish would survive salt water?</td>\n      <td>0</td>\n    </tr>\n  </tbody>\n</table>\n</div>"
     },
     "execution_count": 148,
     "metadata": {},
     "output_type": "execute_result"
    }
   ],
   "source": [
    "nltk.download('stopwords')\n",
    "stop_words = set(stopwords.words('english'))\n",
    "\n",
    "def delete_stop_words(text):\n",
    "    return ' '.join([word.lower() for word in text.split() if word not in stop_words])\n",
    "\n",
    "data['question1'] = data['question1'].apply(delete_stop_words)\n",
    "data['question2'] = data['question2'].apply(delete_stop_words)\n",
    "data_const = data.copy()\n",
    "data.head()"
   ],
   "metadata": {
    "collapsed": false,
    "ExecuteTime": {
     "end_time": "2024-06-05T18:26:29.038897Z",
     "start_time": "2024-06-05T18:26:26.974559Z"
    }
   },
   "id": "f0dcd722759a3fdf",
   "execution_count": 148
  },
  {
   "cell_type": "code",
   "outputs": [],
   "source": [
    "stemmer = PorterStemmer()\n",
    "\n",
    "def preprocess_sentence(text):\n",
    "    return ' '.join([stemmer.stem(word) for word in preprocess_text(text)])"
   ],
   "metadata": {
    "collapsed": false,
    "ExecuteTime": {
     "end_time": "2024-06-05T18:26:29.040676Z",
     "start_time": "2024-06-05T18:26:29.017810Z"
    }
   },
   "id": "f607e1f16de6e135",
   "execution_count": 149
  },
  {
   "cell_type": "code",
   "outputs": [
    {
     "data": {
      "text/plain": "                                           question1  \\\n0      what step step guid invest share market india   \n1               what stori kohinoor kohinoor diamond   \n2       how i increas speed internet connect use vpn   \n3                    whi i mental lone how i solv it   \n4  which one dissolv water quikli sugar salt meth...   \n\n                                           question2  is_duplicate  \n0            what step step guid invest share market             0  \n1  what would happen indian govern stole kohinoor...             0  \n2                 how internet speed increas hack dn             0  \n3               find remaind math2324math divid 2423             0  \n4                 which fish would surviv salt water             0  ",
      "text/html": "<div>\n<style scoped>\n    .dataframe tbody tr th:only-of-type {\n        vertical-align: middle;\n    }\n\n    .dataframe tbody tr th {\n        vertical-align: top;\n    }\n\n    .dataframe thead th {\n        text-align: right;\n    }\n</style>\n<table border=\"1\" class=\"dataframe\">\n  <thead>\n    <tr style=\"text-align: right;\">\n      <th></th>\n      <th>question1</th>\n      <th>question2</th>\n      <th>is_duplicate</th>\n    </tr>\n  </thead>\n  <tbody>\n    <tr>\n      <th>0</th>\n      <td>what step step guid invest share market india</td>\n      <td>what step step guid invest share market</td>\n      <td>0</td>\n    </tr>\n    <tr>\n      <th>1</th>\n      <td>what stori kohinoor kohinoor diamond</td>\n      <td>what would happen indian govern stole kohinoor...</td>\n      <td>0</td>\n    </tr>\n    <tr>\n      <th>2</th>\n      <td>how i increas speed internet connect use vpn</td>\n      <td>how internet speed increas hack dn</td>\n      <td>0</td>\n    </tr>\n    <tr>\n      <th>3</th>\n      <td>whi i mental lone how i solv it</td>\n      <td>find remaind math2324math divid 2423</td>\n      <td>0</td>\n    </tr>\n    <tr>\n      <th>4</th>\n      <td>which one dissolv water quikli sugar salt meth...</td>\n      <td>which fish would surviv salt water</td>\n      <td>0</td>\n    </tr>\n  </tbody>\n</table>\n</div>"
     },
     "execution_count": 150,
     "metadata": {},
     "output_type": "execute_result"
    }
   ],
   "source": [
    "data['question1'] = data['question1'].apply(preprocess_sentence)\n",
    "data['question2'] = data['question2'].apply(preprocess_sentence)\n",
    "data.head()"
   ],
   "metadata": {
    "collapsed": false,
    "ExecuteTime": {
     "end_time": "2024-06-05T18:27:54.628188Z",
     "start_time": "2024-06-05T18:26:29.027523Z"
    }
   },
   "id": "75822b900ece7218",
   "execution_count": 150
  },
  {
   "cell_type": "code",
   "outputs": [
    {
     "name": "stdout",
     "output_type": "stream",
     "text": [
      "threshold = 0.6:\n",
      "    accuracy: 0.5952557633323439\n",
      "    precision: 0.47457561579211943\n",
      "    recall: 0.8155901116427432\n",
      "    f1: 0.6000146666992594\n",
      "\n",
      "threshold = 0.7:\n",
      "    accuracy: 0.6468536657761947\n",
      "    precision: 0.5271230563568564\n",
      "    recall: 0.4978734715576821\n",
      "    f1: 0.5120809268309353\n",
      "\n",
      "threshold = 0.8:\n",
      "    accuracy: 0.6475957257346393\n",
      "    precision: 0.5782073813708261\n",
      "    recall: 0.19677033492822968\n",
      "    f1: 0.2936189201249442\n"
     ]
    }
   ],
   "source": [
    "threshold = [0.6, 0.7, 0.8]\n",
    "for i in threshold:\n",
    "    cnt_p = 0\n",
    "    cnt_n = 0\n",
    "    cnt1 = 0\n",
    "    cnt2 = 0\n",
    "    for j in range(len(data) // 10):\n",
    "        q1 = data[\"question1\"][j]\n",
    "        q2 = data[\"question2\"][j]\n",
    "        is_dup = data[\"is_duplicate\"][j]\n",
    "        sh = simhash_similarity(q1, q2)\n",
    "        if (sh >= i and is_dup == 1):\n",
    "            cnt_p += 1\n",
    "        elif (sh < i and is_dup == 0):\n",
    "            cnt_n += 1\n",
    "        elif (sh >= i and is_dup == 0): \n",
    "            cnt1 += 1\n",
    "        elif (sh < i and is_dup == 1):\n",
    "            cnt2 += 1\n",
    "            \n",
    "    accuracy = (cnt_p + cnt_n) / (len(data) // 10)\n",
    "    precision = (cnt_p) / (cnt_p + cnt1)\n",
    "    recall = (cnt_p) / (cnt_p + cnt2)\n",
    "    f1 = (2 * precision * recall) / (precision + recall)\n",
    "    print(f\"threshold = {i}:\")\n",
    "    print(f\"    accuracy: {accuracy}\")\n",
    "    print(f\"    precision: {precision}\")\n",
    "    print(f\"    recall: {recall}\")\n",
    "    print(f\"    f1: {f1}\")\n",
    "    print('\\n')"
   ],
   "metadata": {
    "collapsed": false,
    "ExecuteTime": {
     "end_time": "2024-06-05T18:28:25.608220Z",
     "start_time": "2024-06-05T18:27:54.628502Z"
    }
   },
   "id": "c186ebc80bb58d94",
   "execution_count": 151
  },
  {
   "cell_type": "raw",
   "source": [
    "Выводы: стало немного лучше"
   ],
   "metadata": {
    "collapsed": false
   },
   "id": "a88ece6c7c229596"
  },
  {
   "cell_type": "code",
   "outputs": [
    {
     "data": {
      "text/plain": "                                           question1  \\\n0    what step step guide invest share market india?   \n1          what story kohinoor (koh-i-noor) diamond?   \n2  how i increase speed internet connection using...   \n3             why i mentally lonely? how i solve it?   \n4  which one dissolve water quikly sugar, salt, m...   \n\n                                           question2  is_duplicate  \n0          what step step guide invest share market?             0  \n1  what would happen indian government stole kohi...             0  \n2          how internet speed increased hacking dns?             0  \n3  find remainder [math]23^{24}[/math] divided 24...             0  \n4               which fish would survive salt water?             0  ",
      "text/html": "<div>\n<style scoped>\n    .dataframe tbody tr th:only-of-type {\n        vertical-align: middle;\n    }\n\n    .dataframe tbody tr th {\n        vertical-align: top;\n    }\n\n    .dataframe thead th {\n        text-align: right;\n    }\n</style>\n<table border=\"1\" class=\"dataframe\">\n  <thead>\n    <tr style=\"text-align: right;\">\n      <th></th>\n      <th>question1</th>\n      <th>question2</th>\n      <th>is_duplicate</th>\n    </tr>\n  </thead>\n  <tbody>\n    <tr>\n      <th>0</th>\n      <td>what step step guide invest share market india?</td>\n      <td>what step step guide invest share market?</td>\n      <td>0</td>\n    </tr>\n    <tr>\n      <th>1</th>\n      <td>what story kohinoor (koh-i-noor) diamond?</td>\n      <td>what would happen indian government stole kohi...</td>\n      <td>0</td>\n    </tr>\n    <tr>\n      <th>2</th>\n      <td>how i increase speed internet connection using...</td>\n      <td>how internet speed increased hacking dns?</td>\n      <td>0</td>\n    </tr>\n    <tr>\n      <th>3</th>\n      <td>why i mentally lonely? how i solve it?</td>\n      <td>find remainder [math]23^{24}[/math] divided 24...</td>\n      <td>0</td>\n    </tr>\n    <tr>\n      <th>4</th>\n      <td>which one dissolve water quikly sugar, salt, m...</td>\n      <td>which fish would survive salt water?</td>\n      <td>0</td>\n    </tr>\n  </tbody>\n</table>\n</div>"
     },
     "execution_count": 152,
     "metadata": {},
     "output_type": "execute_result"
    }
   ],
   "source": [
    "data = data_const\n",
    "data.head()"
   ],
   "metadata": {
    "collapsed": false,
    "ExecuteTime": {
     "end_time": "2024-06-05T18:28:25.610129Z",
     "start_time": "2024-06-05T18:28:25.602548Z"
    }
   },
   "id": "60942ebc954dee43",
   "execution_count": 152
  },
  {
   "cell_type": "code",
   "outputs": [],
   "source": [
    "import pymorphy2\n",
    "\n",
    "morph = pymorphy2.MorphAnalyzer()\n",
    "\n",
    "def preprocess_lem(text):\n",
    "    return ' '.join([morph.parse(word)[0].normal_form for word in preprocess_text(text)])\n",
    "    \n",
    "data['question1'] = data['question1'].apply(preprocess_lem)\n",
    "data['question2'] = data['question2'].apply(preprocess_lem)"
   ],
   "metadata": {
    "collapsed": false,
    "ExecuteTime": {
     "end_time": "2024-06-05T18:30:05.964499Z",
     "start_time": "2024-06-05T18:28:25.609025Z"
    }
   },
   "id": "3c9c7ff803eec130",
   "execution_count": 153
  },
  {
   "cell_type": "code",
   "outputs": [
    {
     "name": "stdout",
     "output_type": "stream",
     "text": [
      "threshold = 0.6:\n",
      "    accuracy: 0.5981745325022262\n",
      "    precision: 0.47689099965249626\n",
      "    recall: 0.8207735247208932\n",
      "    f1: 0.6032676386548466\n",
      "\n",
      "threshold = 0.7:\n",
      "    accuracy: 0.6508607895517958\n",
      "    precision: 0.5331015397715178\n",
      "    recall: 0.4992690058479532\n",
      "    f1: 0.5156308980474246\n",
      "\n",
      "threshold = 0.8:\n",
      "    accuracy: 0.6478430790541209\n",
      "    precision: 0.5846378626591526\n",
      "    recall: 0.18613769271664007\n",
      "    f1: 0.28237310348303846\n"
     ]
    }
   ],
   "source": [
    "threshold = [0.6, 0.7, 0.8]\n",
    "for i in threshold:\n",
    "    cnt_p = 0\n",
    "    cnt_n = 0\n",
    "    cnt1 = 0\n",
    "    cnt2 = 0\n",
    "    for j in range(len(data) // 10):\n",
    "        q1 = data[\"question1\"][j]\n",
    "        q2 = data[\"question2\"][j]\n",
    "        is_dup = data[\"is_duplicate\"][j]\n",
    "        sh = simhash_similarity(q1, q2)\n",
    "        if (sh >= i and is_dup == 1):\n",
    "            cnt_p += 1\n",
    "        elif (sh < i and is_dup == 0):\n",
    "            cnt_n += 1\n",
    "        elif (sh >= i and is_dup == 0): \n",
    "            cnt1 += 1\n",
    "        elif (sh < i and is_dup == 1):\n",
    "            cnt2 += 1\n",
    "            \n",
    "    accuracy = (cnt_p + cnt_n) / (len(data) // 10)\n",
    "    precision = (cnt_p) / (cnt_p + cnt1)\n",
    "    recall = (cnt_p) / (cnt_p + cnt2)\n",
    "    f1 = (2 * precision * recall) / (precision + recall)\n",
    "    print(f\"threshold = {i}:\")\n",
    "    print(f\"    accuracy: {accuracy}\")\n",
    "    print(f\"    precision: {precision}\")\n",
    "    print(f\"    recall: {recall}\")\n",
    "    print(f\"    f1: {f1}\")\n",
    "    print('\\n')"
   ],
   "metadata": {
    "collapsed": false,
    "ExecuteTime": {
     "end_time": "2024-06-05T18:30:40.047906Z",
     "start_time": "2024-06-05T18:30:05.978585Z"
    }
   },
   "id": "69c19bd0f20b1166",
   "execution_count": 154
  },
  {
   "cell_type": "raw",
   "source": [
    "Результат: при смене стеммера на лемматизацию метрики слегка выросли"
   ],
   "metadata": {
    "collapsed": false
   },
   "id": "77bfefab815849dd"
  }
 ],
 "metadata": {
  "kernelspec": {
   "display_name": "Python 3",
   "language": "python",
   "name": "python3"
  },
  "language_info": {
   "codemirror_mode": {
    "name": "ipython",
    "version": 2
   },
   "file_extension": ".py",
   "mimetype": "text/x-python",
   "name": "python",
   "nbconvert_exporter": "python",
   "pygments_lexer": "ipython2",
   "version": "2.7.6"
  }
 },
 "nbformat": 4,
 "nbformat_minor": 5
}
